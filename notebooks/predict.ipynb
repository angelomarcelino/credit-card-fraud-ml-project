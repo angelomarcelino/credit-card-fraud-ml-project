{
 "cells": [
  {
   "cell_type": "code",
   "execution_count": 1,
   "id": "1cb8f66d-1341-4985-b928-aea6da4c2962",
   "metadata": {},
   "outputs": [],
   "source": [
    "import pandas as pd\n",
    "import xgboost as xgb\n",
    "import pickle\n",
    "from sklearn.feature_extraction import DictVectorizer"
   ]
  },
  {
   "cell_type": "code",
   "execution_count": 2,
   "id": "ec4e0857-d34c-419c-9bf2-6319bc3da1b6",
   "metadata": {},
   "outputs": [],
   "source": [
    "ETA=0.3\n",
    "MAX_DEPTH=3\n",
    "MIN_CHILD_WEIGHT=1\n",
    "NUM_BOOST_ROUND =100"
   ]
  },
  {
   "cell_type": "code",
   "execution_count": 3,
   "id": "1bab5b01-3f38-4c1d-bece-08fac0b2f662",
   "metadata": {},
   "outputs": [],
   "source": [
    "#importing the model\n",
    "input_file = '../model/xgboost_eta=0.3_depth=3_minchild=1_round=100.bin'\n",
    "with open(input_file, 'rb') as f_in:\n",
    "    (model, dv) = pickle.load(f_in)"
   ]
  },
  {
   "cell_type": "code",
   "execution_count": 28,
   "id": "1af82f70-5121-45e4-b9f3-656e4a04f8c0",
   "metadata": {},
   "outputs": [],
   "source": [
    "def predict (X, dv, model):\n",
    "    features = list(dv.get_feature_names_out())\n",
    "    dMatrix = xgb.DMatrix(X, feature_names=features)\n",
    "    y_pred_proba = model.predict(dMatrix)\n",
    "\n",
    "    return y_pred_proba"
   ]
  },
  {
   "cell_type": "code",
   "execution_count": 25,
   "id": "b87241b8-2f09-44a5-9ade-2ebade4fd8db",
   "metadata": {},
   "outputs": [],
   "source": [
    "transaction={\n",
    "    \"time\": 0,\n",
    "    \"v1\": -1.3598071336738,\n",
    "    \"v2\": -0.07278117330985,\n",
    "    \"v3\": 2.53634673796914,\n",
    "    \"v4\": 1.37815522427443,\n",
    "    \"v5\": -0.338320769942518,\n",
    "    \"v6\": 0.462387777762292,\n",
    "    \"v7\": 0.239598554061257,\n",
    "    \"v8\": 0.098697901261051,\n",
    "    \"v9\": 0.363786969611213,\n",
    "    \"v10\": 0.090794171978932,\n",
    "    \"v11\": -0.551599533260813,\n",
    "    \"v12\": -0.617800855762348,\n",
    "    \"v13\": -0.991389847235408,\n",
    "    \"v14\": -0.311169353699879,\n",
    "    \"v15\": 1.46817697209427,\n",
    "    \"v16\": -0.470400525259478,\n",
    "    \"v17\": 0.207971241929242,\n",
    "    \"v18\": 0.025790580198559,\n",
    "    \"v19\": 0.403992960255733,\n",
    "    \"v20\": 0.251412098239705,\n",
    "    \"v21\": -0.018306777944153,\n",
    "    \"v22\": 0.277837575558899,\n",
    "    \"v23\": -0.110473910188767,\n",
    "    \"v24\": 0.066928074914673,\n",
    "    \"v25\": 0.128539358273528,\n",
    "    \"v26\": -0.189114843888824,\n",
    "    \"v27\": 0.133558376740387,\n",
    "    \"v28\": -0.021053053453822,\n",
    "    \"amount\": 149.62,\n",
    "    \"class\": 0\n",
    "  }"
   ]
  },
  {
   "cell_type": "code",
   "execution_count": 33,
   "id": "ce34eada-f059-46b0-baea-4c205d1a02db",
   "metadata": {},
   "outputs": [
    {
     "name": "stdout",
     "output_type": "stream",
     "text": [
      "Fraud probability:2.2258978788158856e-05\n"
     ]
    }
   ],
   "source": [
    "X = dv.transform([transaction])\n",
    "y_pred_proba=predict(X, dv, model)\n",
    "print(f'Fraud probability: {y_pred_proba[0]}')"
   ]
  },
  {
   "cell_type": "code",
   "execution_count": null,
   "id": "927e4de5-72c8-4ca5-a3a7-7d27649867db",
   "metadata": {},
   "outputs": [],
   "source": []
  }
 ],
 "metadata": {
  "kernelspec": {
   "display_name": "Python 3 (ipykernel)",
   "language": "python",
   "name": "python3"
  },
  "language_info": {
   "codemirror_mode": {
    "name": "ipython",
    "version": 3
   },
   "file_extension": ".py",
   "mimetype": "text/x-python",
   "name": "python",
   "nbconvert_exporter": "python",
   "pygments_lexer": "ipython3",
   "version": "3.12.4"
  }
 },
 "nbformat": 4,
 "nbformat_minor": 5
}
