{
 "cells": [
  {
   "cell_type": "markdown",
   "id": "1433af8f",
   "metadata": {},
   "source": [
    "# Evaluate model"
   ]
  },
  {
   "cell_type": "code",
   "execution_count": 1,
   "id": "8cee411f",
   "metadata": {},
   "outputs": [],
   "source": [
    "import sys\n",
    "import os\n",
    "sys.path.append(os.path.abspath(os.path.join(os.getcwd(), '..')))\n",
    "\n",
    "from arch.archicteture import Architecture"
   ]
  },
  {
   "cell_type": "markdown",
   "id": "eef6b767",
   "metadata": {},
   "source": [
    "# Model config"
   ]
  },
  {
   "cell_type": "code",
   "execution_count": 2,
   "id": "49234ea3",
   "metadata": {},
   "outputs": [
    {
     "name": "stdout",
     "output_type": "stream",
     "text": [
      "OrderedDict({'linear.weight': tensor([[-0.0590,  0.0165,  0.0633, -0.0165, -0.1127,  0.1102, -0.0071,  0.0358,\n",
      "          0.0019,  0.0205,  0.1115, -0.1542,  0.0918,  0.1731,  0.0265,  0.0641,\n",
      "         -0.0717,  0.0105,  0.1120, -0.0448, -0.1618, -0.1409, -0.0802, -0.1792,\n",
      "          0.0076, -0.1536, -0.0411, -0.0708, -0.0019,  0.0539]]), 'linear.bias': tensor([0.0594])})\n"
     ]
    }
   ],
   "source": [
    "from torch import nn\n",
    "import torch.optim as optim\n",
    "\n",
    "# Sets learning rate\n",
    "lr = 0.1\n",
    "\n",
    "model = nn.Sequential()\n",
    "model.add_module('linear', nn.Linear(30, 1))\n",
    "\n",
    "# Defines a SGD optimizer to update the parameters\n",
    "optimizer = optim.SGD(model.parameters(), lr=lr)\n",
    "\n",
    "# Defines a BCE loss function\n",
    "loss_fn = nn.BCEWithLogitsLoss()\n",
    "\n",
    "print(model.state_dict())"
   ]
  },
  {
   "cell_type": "code",
   "execution_count": 4,
   "id": "e7c08d6c",
   "metadata": {},
   "outputs": [
    {
     "name": "stdout",
     "output_type": "stream",
     "text": [
      "Model sent to cpu\n",
      "Architecture created\n",
      "Checkpoint loaded from ../model/model_checkpoint_1.pth\n",
      "{'epoch': 100, 'model_state_dict': OrderedDict({'linear.weight': tensor([[-1.6927e-01,  3.0990e-01, -9.1759e-02,  2.2311e-02,  1.0133e+00,\n",
      "          1.7492e-01, -1.1713e-01, -9.6299e-02, -1.7572e-01, -4.2951e-01,\n",
      "         -9.0298e-01, -7.5746e-02,  1.1604e-01, -3.5262e-01, -5.2835e-01,\n",
      "         -5.3134e-02, -9.1924e-02,  9.9794e-04, -3.1891e-02,  1.0342e-01,\n",
      "         -3.5414e-01,  3.1134e-01,  3.7544e-01, -2.6410e-02,  1.4166e-01,\n",
      "         -5.8434e-02,  8.4309e-03, -3.4518e-01, -8.4981e-02,  1.8341e-01]]), 'linear.bias': tensor([-8.6298])}), 'optimizer_state_dict': {'state': {}, 'param_groups': [{'lr': 0.1, 'momentum': 0, 'dampening': 0, 'weight_decay': 0, 'nesterov': False, 'maximize': False, 'foreach': None, 'differentiable': False, 'fused': None, 'params': [0, 1]}]}, 'loss': [np.float64(0.021292415535931624), np.float64(0.005704477181717255), np.float64(0.004942420907448705), np.float64(0.004620985050963714), np.float64(0.004591889920059542), np.float64(0.004464699920722328), np.float64(0.0043589920369295964), np.float64(0.004397230198073581), np.float64(0.004286224601740094), np.float64(0.0043068508291904724), np.float64(0.004309184674639255), np.float64(0.004251739735889926), np.float64(0.00426693091089428), np.float64(0.004268375497409559), np.float64(0.004225571541539915), np.float64(0.00421302586658098), np.float64(0.004264747864867083), np.float64(0.004213932853866391), np.float64(0.004188999371861788), np.float64(0.004208230809581564), np.float64(0.004244895682380723), np.float64(0.004167705787024341), np.float64(0.0042089081566112066), np.float64(0.004133569696433622), np.float64(0.004222282111759231), np.float64(0.00422275340250051), np.float64(0.004157704166643731), np.float64(0.004126678011095718), np.float64(0.00424058511769282), np.float64(0.004187957450514201), np.float64(0.004196981361987919), np.float64(0.004177969127788965), np.float64(0.004202425581560258), np.float64(0.004253783241117426), np.float64(0.004203175054142242), np.float64(0.004180355087826638), np.float64(0.004176911707740378), np.float64(0.004175680734350418), np.float64(0.004125591808274177), np.float64(0.004193934459420096), np.float64(0.0041126755642538855), np.float64(0.004170340292458272), np.float64(0.004112890168041393), np.float64(0.0042708404297798945), np.float64(0.0041357273516878165), np.float64(0.004230350462962175), np.float64(0.004238344840188538), np.float64(0.004117900394747029), np.float64(0.004164705641648096), np.float64(0.004102902595318027), np.float64(0.00415540681550222), np.float64(0.0042065688988470575), np.float64(0.004211602897477229), np.float64(0.004162026424153086), np.float64(0.004212693944472385), np.float64(0.004185230813721601), np.float64(0.004178112354522181), np.float64(0.004232531734660985), np.float64(0.004134438595805413), np.float64(0.004154666005968371), np.float64(0.00417394539048347), np.float64(0.004215253031967829), np.float64(0.004136068304410152), np.float64(0.004135080858351329), np.float64(0.004205251761098804), np.float64(0.0041118532431987185), np.float64(0.00417437188580175), np.float64(0.004199657112191834), np.float64(0.004157395489693417), np.float64(0.004168323755174347), np.float64(0.004195577668503913), np.float64(0.004113747630320904), np.float64(0.004151349664498442), np.float64(0.004176479416871563), np.float64(0.004143382692864197), np.float64(0.004142078704044288), np.float64(0.004250995345330386), np.float64(0.004162286029246019), np.float64(0.004134805845146235), np.float64(0.004229983114144443), np.float64(0.004176843388913483), np.float64(0.00415231466555817), np.float64(0.004160572785112421), np.float64(0.00416160374771137), np.float64(0.004167478620974203), np.float64(0.004144211478631202), np.float64(0.0041298454962231754), np.float64(0.0041411008830251235), np.float64(0.004237705419614093), np.float64(0.00414041751838419), np.float64(0.0041202768239831005), np.float64(0.004174008213030325), np.float64(0.004170526198193498), np.float64(0.004165904082667466), np.float64(0.004185629615884999), np.float64(0.004138377249349804), np.float64(0.004139611378212859), np.float64(0.00414968832560394), np.float64(0.004156686254190916), np.float64(0.004148447552845566)], 'val_loss': [np.float64(0.006138189848121486), np.float64(0.004907423202847324), np.float64(0.004326221133440139), np.float64(0.004414057704360317), np.float64(0.003968761206955223), np.float64(0.003878384476904386), np.float64(0.0039023744601152177), np.float64(0.0037955648772597236), np.float64(0.003799692674317344), np.float64(0.00384315652391266), np.float64(0.0037197027291475944), np.float64(0.003721168695293904), np.float64(0.00375753726437714), np.float64(0.0037028902330434243), np.float64(0.0038693907329531473), np.float64(0.0036681456211157346), np.float64(0.0036793121218189544), np.float64(0.0036458402640692153), np.float64(0.0037111583010734643), np.float64(0.0036983348225835527), np.float64(0.003662845306575359), np.float64(0.0036704774414396645), np.float64(0.003735118665110255), np.float64(0.0036353315225100473), np.float64(0.003810351279436942), np.float64(0.003677181833435172), np.float64(0.0036199788677147627), np.float64(0.0037291902498949392), np.float64(0.0036594392721659864), np.float64(0.0036304900441964196), np.float64(0.003628977647412612), np.float64(0.003641585875573013), np.float64(0.003628999024094422), np.float64(0.003646815057313979), np.float64(0.00363461311434774), np.float64(0.003611819868461531), np.float64(0.003677535095892577), np.float64(0.003698333872315724), np.float64(0.0036131210183747236), np.float64(0.003620654969654118), np.float64(0.004053620509262375), np.float64(0.003644400133794972), np.float64(0.00378430608409644), np.float64(0.003660342293862289), np.float64(0.0036454929666558133), np.float64(0.0037649337734868196), np.float64(0.0036225863792826384), np.float64(0.003609451907059736), np.float64(0.0036389276757156927), np.float64(0.003607757923442308), np.float64(0.003696300312880621), np.float64(0.0036389949244439736), np.float64(0.0035997018877923274), np.float64(0.003608694976303093), np.float64(0.003668583288699165), np.float64(0.0036102876012089665), np.float64(0.003815698533000918), np.float64(0.003670892237070749), np.float64(0.0037310637826858846), np.float64(0.0037187236339581856), np.float64(0.0036294132309200662), np.float64(0.003720684595603086), np.float64(0.004064015384877674), np.float64(0.0037783145874881892), np.float64(0.0036475951919568896), np.float64(0.0038266301033710046), np.float64(0.003644769392449275), np.float64(0.003663265249142099), np.float64(0.0036186659837969476), np.float64(0.003679168628861628), np.float64(0.0036226962737458956), np.float64(0.003640588708538102), np.float64(0.0036724597720249517), np.float64(0.003666377590559465), np.float64(0.0037071035453536487), np.float64(0.003789099999760956), np.float64(0.0036598646026977477), np.float64(0.00366517158766621), np.float64(0.0038118061290959297), np.float64(0.003635907910218594), np.float64(0.0036738122066764596), np.float64(0.003633092876678431), np.float64(0.0036376377409358023), np.float64(0.003791030237168193), np.float64(0.003722478992269896), np.float64(0.003687268643600523), np.float64(0.003627116304226993), np.float64(0.0038627673035676203), np.float64(0.003843098680000631), np.float64(0.003651906268802596), np.float64(0.00392268708171208), np.float64(0.0036827196319656513), np.float64(0.0036042283672481925), np.float64(0.003694019074981361), np.float64(0.0036549641842278102), np.float64(0.003661856600687046), np.float64(0.003655727420030444), np.float64(0.0036448029803927973), np.float64(0.003632277353018926), np.float64(0.0036719526916752254)]}\n",
      "OrderedDict({'linear.weight': tensor([[-1.6927e-01,  3.0990e-01, -9.1759e-02,  2.2311e-02,  1.0133e+00,\n",
      "          1.7492e-01, -1.1713e-01, -9.6299e-02, -1.7572e-01, -4.2951e-01,\n",
      "         -9.0298e-01, -7.5746e-02,  1.1604e-01, -3.5262e-01, -5.2835e-01,\n",
      "         -5.3134e-02, -9.1924e-02,  9.9794e-04, -3.1891e-02,  1.0342e-01,\n",
      "         -3.5414e-01,  3.1134e-01,  3.7544e-01, -2.6410e-02,  1.4166e-01,\n",
      "         -5.8434e-02,  8.4309e-03, -3.4518e-01, -8.4981e-02,  1.8341e-01]]), 'linear.bias': tensor([-8.6298])})\n"
     ]
    }
   ],
   "source": [
    "# Load the architecture\n",
    "arch = Architecture(model, loss_fn, optimizer)\n",
    "arch.load_checkpoint(\"../model/model_checkpoint_1.pth\", map_location_device='cpu')\n",
    "\n",
    "print(model.state_dict())"
   ]
  },
  {
   "cell_type": "code",
   "execution_count": 8,
   "id": "467c20b8",
   "metadata": {},
   "outputs": [
    {
     "data": {
      "text/plain": [
       "tensor([[ 0.2789, -0.9500, -0.4499, -0.5536,  0.4729,  0.3534,  0.7844, -0.8261,\n",
       "         -0.1562, -0.9404, -0.5627,  0.0107, -0.9469, -0.6023,  0.2998,  0.0899,\n",
       "         -0.5591,  0.1785,  0.6189, -0.9870,  0.6116,  0.3963, -0.3195, -0.6890,\n",
       "          0.9144, -0.3268, -0.8145, -0.8066,  0.6950,  0.2075]])"
      ]
     },
     "execution_count": 8,
     "metadata": {},
     "output_type": "execute_result"
    }
   ],
   "source": [
    "import random\n",
    "import torch\n",
    "\n",
    "# Generates random data\n",
    "def generate_data(num_samples=1000, num_features=30, seed=42):\n",
    "\trandom.seed(seed)\n",
    "\tdata = []\n",
    "\tfor _ in range(num_samples):\n",
    "\t\tsample = [random.uniform(-1, 1) for _ in range(num_features)]\n",
    "\t\tdata.append(sample)\n",
    "\treturn data\n",
    "\n",
    "\n",
    "test_data = generate_data(num_samples=1, num_features=30, seed=42)\n",
    "test_data = torch.tensor(test_data, dtype=torch.float32)\n",
    "test_data"
   ]
  },
  {
   "cell_type": "code",
   "execution_count": 9,
   "id": "f1fc5ed9",
   "metadata": {},
   "outputs": [
    {
     "data": {
      "text/plain": [
       "array([[-7.4017825]], dtype=float32)"
      ]
     },
     "execution_count": 9,
     "metadata": {},
     "output_type": "execute_result"
    }
   ],
   "source": [
    "# Test prediction\n",
    "\n",
    "arch.predict(test_data)"
   ]
  },
  {
   "cell_type": "code",
   "execution_count": null,
   "id": "c0467f60",
   "metadata": {},
   "outputs": [],
   "source": []
  }
 ],
 "metadata": {
  "kernelspec": {
   "display_name": ".venv",
   "language": "python",
   "name": "python3"
  },
  "language_info": {
   "codemirror_mode": {
    "name": "ipython",
    "version": 3
   },
   "file_extension": ".py",
   "mimetype": "text/x-python",
   "name": "python",
   "nbconvert_exporter": "python",
   "pygments_lexer": "ipython3",
   "version": "3.12.3"
  }
 },
 "nbformat": 4,
 "nbformat_minor": 5
}
