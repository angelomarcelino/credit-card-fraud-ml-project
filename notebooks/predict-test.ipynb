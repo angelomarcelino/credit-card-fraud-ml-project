{
 "cells": [
  {
   "cell_type": "code",
   "execution_count": 7,
   "id": "36ef0b47-3343-44da-9037-27872cc07c5b",
   "metadata": {},
   "outputs": [],
   "source": [
    "import requests"
   ]
  },
  {
   "cell_type": "code",
   "execution_count": 8,
   "id": "1d3e967f-cce8-4869-bc1a-0b5da070da03",
   "metadata": {},
   "outputs": [],
   "source": [
    "url = \"http://localhost:5000/predict\"\n",
    "transaction = {\n",
    "    \"time\": 0,\n",
    "    \"v1\": -1.3598071336738,\n",
    "    \"v2\": -0.07278117330985,\n",
    "    \"v3\": 2.53634673796914,\n",
    "    \"v4\": 1.37815522427443,\n",
    "    \"v5\": -0.338320769942518,\n",
    "    \"v6\": 0.462387777762292,\n",
    "    \"v7\": 0.239598554061257,\n",
    "    \"v8\": 0.098697901261051,\n",
    "    \"v9\": 0.363786969611213,\n",
    "    \"v10\": 0.090794171978932,\n",
    "    \"v11\": -0.551599533260813,\n",
    "    \"v12\": -0.617800855762348,\n",
    "    \"v13\": -0.991389847235408,\n",
    "    \"v14\": -0.311169353699879,\n",
    "    \"v15\": 1.46817697209427,\n",
    "    \"v16\": -0.470400525259478,\n",
    "    \"v17\": 0.207971241929242,\n",
    "    \"v18\": 0.025790580198559,\n",
    "    \"v19\": 0.403992960255733,\n",
    "    \"v20\": 0.251412098239705,\n",
    "    \"v21\": -0.018306777944153,\n",
    "    \"v22\": 0.277837575558899,\n",
    "    \"v23\": -0.110473910188767,\n",
    "    \"v24\": 0.066928074914673,\n",
    "    \"v25\": 0.128539358273528,\n",
    "    \"v26\": -0.189114843888824,\n",
    "    \"v27\": 0.133558376740387,\n",
    "    \"v28\": -0.021053053453822,\n",
    "    \"amount\": 149.62\n",
    "  }"
   ]
  },
  {
   "cell_type": "code",
   "execution_count": 9,
   "id": "70ed585a-caa2-43a8-ab5c-bf2255fe1176",
   "metadata": {},
   "outputs": [],
   "source": [
    "response =requests.post(url, json=transaction).json()"
   ]
  },
  {
   "cell_type": "code",
   "execution_count": 10,
   "id": "f827bae0-1d99-49c4-a719-d81ea7f9390e",
   "metadata": {},
   "outputs": [
    {
     "name": "stdout",
     "output_type": "stream",
     "text": [
      "Legitimate payment\n"
     ]
    }
   ],
   "source": [
    "if response['fraud']==True:\n",
    "    print('Fraudulent payment')\n",
    "else:\n",
    "    print ('Legitimate payment')"
   ]
  }
 ],
 "metadata": {
  "kernelspec": {
   "display_name": "Python 3 (ipykernel)",
   "language": "python",
   "name": "python3"
  },
  "language_info": {
   "codemirror_mode": {
    "name": "ipython",
    "version": 3
   },
   "file_extension": ".py",
   "mimetype": "text/x-python",
   "name": "python",
   "nbconvert_exporter": "python",
   "pygments_lexer": "ipython3",
   "version": "3.12.4"
  }
 },
 "nbformat": 4,
 "nbformat_minor": 5
}
