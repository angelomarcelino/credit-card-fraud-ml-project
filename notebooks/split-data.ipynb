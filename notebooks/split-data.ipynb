{
 "cells": [
  {
   "cell_type": "code",
   "execution_count": 13,
   "id": "4af8cc54-d407-4b11-8026-3a1c631b2539",
   "metadata": {},
   "outputs": [],
   "source": [
    "import pandas as pd\n",
    "import os"
   ]
  },
  {
   "cell_type": "code",
   "execution_count": 14,
   "id": "b23ebec7-adb0-4db8-9604-01a7e97123b3",
   "metadata": {},
   "outputs": [],
   "source": [
    "df=pd.read_csv(\"../dataset/creditcard.csv\")"
   ]
  },
  {
   "cell_type": "code",
   "execution_count": 17,
   "id": "cc57fb42-ec04-4b0b-909f-92afe452b89a",
   "metadata": {},
   "outputs": [
    {
     "data": {
      "text/plain": [
       "2"
      ]
     },
     "execution_count": 17,
     "metadata": {},
     "output_type": "execute_result"
    }
   ],
   "source": [
    "num_parts = total_size // MAX_SIZE + 1 \n",
    "num_parts"
   ]
  },
  {
   "cell_type": "code",
   "execution_count": 18,
   "id": "eef6441c-1ba5-4a89-9103-e65ba71fff2b",
   "metadata": {},
   "outputs": [],
   "source": [
    "output_dir = \"../dataset/\""
   ]
  },
  {
   "cell_type": "code",
   "execution_count": 19,
   "id": "134b0d05-a85c-4933-8380-b1620af1d854",
   "metadata": {},
   "outputs": [
    {
     "name": "stdout",
     "output_type": "stream",
     "text": [
      "Created: ../dataset/creditcard_part_1.csv with 142403 rows.\n",
      "Created: ../dataset/creditcard_part_2.csv with 142404 rows.\n",
      "Split finish.\n"
     ]
    }
   ],
   "source": [
    "rows_per_part = len(df) // num_parts #integer division\n",
    "for i in range(num_parts):\n",
    "    start_row = i * rows_per_part\n",
    "    end_row = (i + 1) * rows_per_part if i < num_parts - 1 else len(df)\n",
    "\n",
    "    output_filename = output_dir + f\"creditcard_part_{i + 1}.csv\"\n",
    "    df.iloc[start_row:end_row].to_csv(output_filename, index=False)\n",
    "    print(f\"Created: {output_filename} with {end_row - start_row} rows.\")\n",
    "\n",
    "print(\"Split finished.\")"
   ]
  }
 ],
 "metadata": {
  "kernelspec": {
   "display_name": "Python 3 (ipykernel)",
   "language": "python",
   "name": "python3"
  },
  "language_info": {
   "codemirror_mode": {
    "name": "ipython",
    "version": 3
   },
   "file_extension": ".py",
   "mimetype": "text/x-python",
   "name": "python",
   "nbconvert_exporter": "python",
   "pygments_lexer": "ipython3",
   "version": "3.12.4"
  }
 },
 "nbformat": 4,
 "nbformat_minor": 5
}
