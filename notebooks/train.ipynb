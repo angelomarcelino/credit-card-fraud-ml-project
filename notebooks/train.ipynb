{
 "cells": [
  {
   "cell_type": "code",
   "execution_count": 136,
   "id": "1cb8f66d-1341-4985-b928-aea6da4c2962",
   "metadata": {},
   "outputs": [],
   "source": [
    "import pandas as pd\n",
    "import xgboost as xgb\n",
    "import pickle\n",
    "from sklearn.model_selection import train_test_split\n",
    "from sklearn.feature_extraction import DictVectorizer\n",
    "from sklearn.metrics import roc_auc_score"
   ]
  },
  {
   "cell_type": "code",
   "execution_count": 99,
   "id": "ec4e0857-d34c-419c-9bf2-6319bc3da1b6",
   "metadata": {},
   "outputs": [],
   "source": [
    "ETA=0.3\n",
    "MAX_DEPTH=3\n",
    "MIN_CHILD_WEIGHT=1\n",
    "NUM_BOOST_ROUND =100"
   ]
  },
  {
   "cell_type": "code",
   "execution_count": 100,
   "id": "5083f675-5df6-4697-98d1-d6f47636a4ff",
   "metadata": {},
   "outputs": [
    {
     "name": "stdout",
     "output_type": "stream",
     "text": [
      "Archive:  ../dataset/creditcard.zip\n",
      "  inflating: ../dataset/creditcard.csv  \n"
     ]
    }
   ],
   "source": [
    "!unzip -o \"../dataset/creditcard.zip\" -d \"../dataset/\""
   ]
  },
  {
   "cell_type": "code",
   "execution_count": 101,
   "id": "a5be8440-fbba-4f2f-9634-32389b111d7d",
   "metadata": {},
   "outputs": [],
   "source": [
    "df=pd.read_csv(\"../dataset/creditcard.csv\")"
   ]
  },
  {
   "cell_type": "code",
   "execution_count": 102,
   "id": "812428a0-a839-4d60-baae-1548932ae747",
   "metadata": {},
   "outputs": [],
   "source": [
    "df.columns = df.columns.str.lower()"
   ]
  },
  {
   "cell_type": "code",
   "execution_count": 103,
   "id": "54413bb8-00eb-4afd-9e79-3fc2c8a27a30",
   "metadata": {},
   "outputs": [],
   "source": [
    "df_full_train, df_test = train_test_split(df, test_size=0.20, random_state=1)\n",
    "df_train, df_val = train_test_split(df_full_train, test_size=0.25, random_state=1)"
   ]
  },
  {
   "cell_type": "code",
   "execution_count": 104,
   "id": "264a515a-55c5-4d18-9aae-7efdf1ae4b54",
   "metadata": {},
   "outputs": [],
   "source": [
    "y_train = df_train[\"class\"].values\n",
    "y_val = df_val[\"class\"].values\n",
    "y_test = df_test[\"class\"].values\n",
    "y_full_train = df_full_train[\"class\"].values"
   ]
  },
  {
   "cell_type": "code",
   "execution_count": 105,
   "id": "05e35f8c-edf7-4d37-a542-b66c3426be06",
   "metadata": {},
   "outputs": [],
   "source": [
    "del df_train[\"class\"]\n",
    "del df_val[\"class\"]\n",
    "del df_test[\"class\"]\n",
    "del df_full_train[\"class\"]"
   ]
  },
  {
   "cell_type": "code",
   "execution_count": 106,
   "id": "7ca5b5d7-e925-4d26-8d12-6be6c481a2ff",
   "metadata": {},
   "outputs": [],
   "source": [
    "df_train.reset_index(drop=True, inplace=True)\n",
    "df_val.reset_index(drop=True, inplace=True)\n",
    "df_test.reset_index(drop=True, inplace=True)\n",
    "df_full_train=df_full_train.reset_index(drop=True)"
   ]
  },
  {
   "cell_type": "code",
   "execution_count": 107,
   "id": "83647d81-17ca-4ea5-9577-7c904cfe60f1",
   "metadata": {},
   "outputs": [],
   "source": [
    "def prepare_data(df_train, y_train):\n",
    "    dv = DictVectorizer(sparse=False)\n",
    "    \n",
    "    train_dicts = df_train.to_dict(orient='records')\n",
    "    X_train = dv.fit_transform(train_dicts)\n",
    "    features = list(dv.get_feature_names_out())\n",
    "    dMatrix_train = xgb.DMatrix(X_train, label=y_train, feature_names=features)\n",
    "\n",
    "    return dMatrix_train, dv"
   ]
  },
  {
   "cell_type": "code",
   "execution_count": 108,
   "id": "8c30d6de-2085-4e12-b864-8e06099667bb",
   "metadata": {},
   "outputs": [],
   "source": [
    "def train (df_train, y_train):\n",
    "    dMatrix, dv = prepare_data(df_train, y_train)\n",
    "    xgb_params ={\n",
    "        'eta': ETA,\n",
    "        'max_depth': MAX_DEPTH,\n",
    "        'min_child_weight': MIN_CHILD_WEIGHT,\n",
    "        'objective': 'binary:logistic',\n",
    "        'seed': 1,\n",
    "        'verbosity': 1\n",
    "    }\n",
    "    model_xgb=xgb.train(xgb_params, dMatrix, num_boost_round=NUM_BOOST_ROUND)\n",
    "    return model_xgb, dv"
   ]
  },
  {
   "cell_type": "code",
   "execution_count": 125,
   "id": "1af82f70-5121-45e4-b9f3-656e4a04f8c0",
   "metadata": {},
   "outputs": [],
   "source": [
    "def predict (df, dv, model):\n",
    "    dicts = df.to_dict(orient='records')\n",
    "    X=dv.transform(dicts)\n",
    "    features = list(dv.get_feature_names_out())\n",
    "    dMatrix = xgb.DMatrix(X, feature_names=features)\n",
    "    y_pred_proba = model.predict(dMatrix)\n",
    "\n",
    "    return y_pred_proba"
   ]
  },
  {
   "cell_type": "code",
   "execution_count": 126,
   "id": "c178c0a7-6330-47ad-87fe-c7e72961a978",
   "metadata": {},
   "outputs": [],
   "source": [
    "#training the model\n",
    "model, dv = train(df_full_train,y_full_train)"
   ]
  },
  {
   "cell_type": "code",
   "execution_count": 131,
   "id": "a95982fa-29f1-4c04-9378-d9e2bdb8dca4",
   "metadata": {},
   "outputs": [
    {
     "data": {
      "text/plain": [
       "0.965"
      ]
     },
     "execution_count": 131,
     "metadata": {},
     "output_type": "execute_result"
    }
   ],
   "source": [
    "#checking that the model has a good performance\n",
    "y_test_pred_proba=predict(df_test, dv, model)\n",
    "auc = round(roc_auc_score(y_test, y_test_pred_proba),3)\n",
    "auc"
   ]
  },
  {
   "cell_type": "code",
   "execution_count": 145,
   "id": "8b61b27e-25e4-4f17-a758-b7b982a82814",
   "metadata": {},
   "outputs": [
    {
     "data": {
      "text/plain": [
       "'../model/xgboost_eta=0.3_depth=3_minchild=1_round=100.bin'"
      ]
     },
     "execution_count": 145,
     "metadata": {},
     "output_type": "execute_result"
    }
   ],
   "source": [
    "#saving the model\n",
    "output_file='../model/xgboost_eta=%s_depth=%s_minchild=%s_round=%s.bin'%(ETA, MAX_DEPTH, MIN_CHILD_WEIGHT, NUM_BOOST_ROUND)\n",
    "output_file"
   ]
  },
  {
   "cell_type": "code",
   "execution_count": 146,
   "id": "452cc239-a831-4476-b0b3-5fbc5e1c01f9",
   "metadata": {},
   "outputs": [],
   "source": [
    "with open(output_file, 'wb') as f_out:\n",
    "    pickle.dump((model,dv), f_out)"
   ]
  },
  {
   "cell_type": "code",
   "execution_count": null,
   "id": "b87241b8-2f09-44a5-9ade-2ebade4fd8db",
   "metadata": {},
   "outputs": [],
   "source": []
  }
 ],
 "metadata": {
  "kernelspec": {
   "display_name": "Python 3 (ipykernel)",
   "language": "python",
   "name": "python3"
  },
  "language_info": {
   "codemirror_mode": {
    "name": "ipython",
    "version": 3
   },
   "file_extension": ".py",
   "mimetype": "text/x-python",
   "name": "python",
   "nbconvert_exporter": "python",
   "pygments_lexer": "ipython3",
   "version": "3.12.4"
  }
 },
 "nbformat": 4,
 "nbformat_minor": 5
}
