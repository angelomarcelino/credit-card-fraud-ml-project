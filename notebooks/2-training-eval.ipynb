{
 "cells": [
  {
   "cell_type": "code",
   "execution_count": null,
   "metadata": {
    "executionInfo": {
     "elapsed": 4132,
     "status": "ok",
     "timestamp": 1746715106112,
     "user": {
      "displayName": "Angelo Marcelino",
      "userId": "12130434257979385717"
     },
     "user_tz": 180
    },
    "id": "LdGTmTXQ5HUb"
   },
   "outputs": [],
   "source": [
    "import pandas as pd\n",
    "import glob\n",
    "import requests\n",
    "import os\n",
    "\n",
    "import numpy as np\n",
    "import datetime\n",
    "import torch\n",
    "import matplotlib.pyplot as plt\n",
    "from torch.utils.data import Dataset, TensorDataset, DataLoader\n",
    "from torch.utils.data.dataset import random_split\n",
    "import torch.optim as optim\n",
    "import torch.nn as nn\n",
    "%matplotlib inline\n",
    "plt.style.use('fivethirtyeight')"
   ]
  },
  {
   "cell_type": "markdown",
   "metadata": {
    "id": "jAbPvPMw65LU"
   },
   "source": [
    "# Import Data"
   ]
  },
  {
   "cell_type": "code",
   "execution_count": 2,
   "metadata": {
    "executionInfo": {
     "elapsed": 1,
     "status": "ok",
     "timestamp": 1746715106116,
     "user": {
      "displayName": "Angelo Marcelino",
      "userId": "12130434257979385717"
     },
     "user_tz": 180
    },
    "id": "fIOdcdv74d7s"
   },
   "outputs": [],
   "source": [
    "def download_and_import_data(project_root_url: str, filename_prefix: str, part_numbers: list, local_folder: str = \"dataset/\") -> pd.DataFrame:\n",
    "    \"\"\"\n",
    "    Downloads CSV files from a GitHub raw URL and concatenates them into a single DataFrame.\n",
    "\n",
    "    Parameters:\n",
    "        project_root_url (str): Base URL to the raw content of the repo (e.g., https://raw.githubusercontent.com/user/repo/branch/path/)\n",
    "        filename_prefix (str): Prefix for the files to download (e.g., 'creditcard_part_')\n",
    "        part_numbers (list): List of integer part numbers to download\n",
    "        local_folder (str): Local folder to save files (default: 'dataset/')\n",
    "\n",
    "    Returns:\n",
    "        pd.DataFrame: Combined DataFrame from all parts\n",
    "    \"\"\"\n",
    "    os.makedirs(local_folder, exist_ok=True)\n",
    "\n",
    "    df_list = []\n",
    "\n",
    "    for part in sorted(part_numbers):\n",
    "        filename = f\"{filename_prefix}{part}.csv\"\n",
    "        file_url = f\"{project_root_url}{filename}\"\n",
    "        local_path = os.path.join(local_folder, filename)\n",
    "\n",
    "        response = requests.get(file_url)\n",
    "        if response.status_code == 200:\n",
    "            with open(local_path, 'wb') as f:\n",
    "                f.write(response.content)\n",
    "            df_list.append(pd.read_csv(local_path))\n",
    "            print(f\"Downloaded and loaded: {filename}\")\n",
    "        else:\n",
    "            print(f\"Failed to download: {file_url} (status {response.status_code})\")\n",
    "\n",
    "    if df_list:\n",
    "        return pd.concat(df_list, ignore_index=True)\n",
    "    else:\n",
    "        raise ValueError(\"No files were successfully downloaded.\")\n"
   ]
  },
  {
   "cell_type": "code",
   "execution_count": 3,
   "metadata": {
    "colab": {
     "base_uri": "https://localhost:8080/"
    },
    "executionInfo": {
     "elapsed": 26195,
     "status": "ok",
     "timestamp": 1746715132312,
     "user": {
      "displayName": "Angelo Marcelino",
      "userId": "12130434257979385717"
     },
     "user_tz": 180
    },
    "id": "0TB4fI-M58Dr",
    "outputId": "7c9802e1-44df-492c-a875-ab82fda34ef6"
   },
   "outputs": [
    {
     "name": "stdout",
     "output_type": "stream",
     "text": [
      "Downloaded and loaded: creditcard_part_1.csv\n",
      "Downloaded and loaded: creditcard_part_2.csv\n",
      "Downloaded and loaded: creditcard_part_3.csv\n",
      "Downloaded and loaded: creditcard_part_4.csv\n"
     ]
    }
   ],
   "source": [
    "df = download_and_import_data(\n",
    "    \"https://raw.githubusercontent.com/angelomarcelino/credit-card-fraud-ml-project/e952d13ee3cb006cb901b263b43f904c8a8bd1a2/dataset/\",\n",
    "    \"creditcard_part_\",\n",
    "    [1, 2, 3, 4]\n",
    ")"
   ]
  },
  {
   "cell_type": "code",
   "execution_count": 4,
   "metadata": {
    "colab": {
     "base_uri": "https://localhost:8080/",
     "height": 236
    },
    "executionInfo": {
     "elapsed": 82,
     "status": "ok",
     "timestamp": 1746715132399,
     "user": {
      "displayName": "Angelo Marcelino",
      "userId": "12130434257979385717"
     },
     "user_tz": 180
    },
    "id": "PV9YACZd6Ktz",
    "outputId": "385fb45f-f08b-4cf0-83ce-bc3f616c8999"
   },
   "outputs": [
    {
     "data": {
      "application/vnd.google.colaboratory.intrinsic+json": {
       "type": "dataframe",
       "variable_name": "df"
      },
      "text/html": [
       "\n",
       "  <div id=\"df-2c19ba55-c15c-4bcf-bb42-f9f356d3c9ab\" class=\"colab-df-container\">\n",
       "    <div>\n",
       "<style scoped>\n",
       "    .dataframe tbody tr th:only-of-type {\n",
       "        vertical-align: middle;\n",
       "    }\n",
       "\n",
       "    .dataframe tbody tr th {\n",
       "        vertical-align: top;\n",
       "    }\n",
       "\n",
       "    .dataframe thead th {\n",
       "        text-align: right;\n",
       "    }\n",
       "</style>\n",
       "<table border=\"1\" class=\"dataframe\">\n",
       "  <thead>\n",
       "    <tr style=\"text-align: right;\">\n",
       "      <th></th>\n",
       "      <th>Time</th>\n",
       "      <th>V1</th>\n",
       "      <th>V2</th>\n",
       "      <th>V3</th>\n",
       "      <th>V4</th>\n",
       "      <th>V5</th>\n",
       "      <th>V6</th>\n",
       "      <th>V7</th>\n",
       "      <th>V8</th>\n",
       "      <th>V9</th>\n",
       "      <th>...</th>\n",
       "      <th>V21</th>\n",
       "      <th>V22</th>\n",
       "      <th>V23</th>\n",
       "      <th>V24</th>\n",
       "      <th>V25</th>\n",
       "      <th>V26</th>\n",
       "      <th>V27</th>\n",
       "      <th>V28</th>\n",
       "      <th>Amount</th>\n",
       "      <th>Class</th>\n",
       "    </tr>\n",
       "  </thead>\n",
       "  <tbody>\n",
       "    <tr>\n",
       "      <th>0</th>\n",
       "      <td>0.0</td>\n",
       "      <td>-1.359807</td>\n",
       "      <td>-0.072781</td>\n",
       "      <td>2.536347</td>\n",
       "      <td>1.378155</td>\n",
       "      <td>-0.338321</td>\n",
       "      <td>0.462388</td>\n",
       "      <td>0.239599</td>\n",
       "      <td>0.098698</td>\n",
       "      <td>0.363787</td>\n",
       "      <td>...</td>\n",
       "      <td>-0.018307</td>\n",
       "      <td>0.277838</td>\n",
       "      <td>-0.110474</td>\n",
       "      <td>0.066928</td>\n",
       "      <td>0.128539</td>\n",
       "      <td>-0.189115</td>\n",
       "      <td>0.133558</td>\n",
       "      <td>-0.021053</td>\n",
       "      <td>149.62</td>\n",
       "      <td>0</td>\n",
       "    </tr>\n",
       "    <tr>\n",
       "      <th>1</th>\n",
       "      <td>0.0</td>\n",
       "      <td>1.191857</td>\n",
       "      <td>0.266151</td>\n",
       "      <td>0.166480</td>\n",
       "      <td>0.448154</td>\n",
       "      <td>0.060018</td>\n",
       "      <td>-0.082361</td>\n",
       "      <td>-0.078803</td>\n",
       "      <td>0.085102</td>\n",
       "      <td>-0.255425</td>\n",
       "      <td>...</td>\n",
       "      <td>-0.225775</td>\n",
       "      <td>-0.638672</td>\n",
       "      <td>0.101288</td>\n",
       "      <td>-0.339846</td>\n",
       "      <td>0.167170</td>\n",
       "      <td>0.125895</td>\n",
       "      <td>-0.008983</td>\n",
       "      <td>0.014724</td>\n",
       "      <td>2.69</td>\n",
       "      <td>0</td>\n",
       "    </tr>\n",
       "    <tr>\n",
       "      <th>2</th>\n",
       "      <td>1.0</td>\n",
       "      <td>-1.358354</td>\n",
       "      <td>-1.340163</td>\n",
       "      <td>1.773209</td>\n",
       "      <td>0.379780</td>\n",
       "      <td>-0.503198</td>\n",
       "      <td>1.800499</td>\n",
       "      <td>0.791461</td>\n",
       "      <td>0.247676</td>\n",
       "      <td>-1.514654</td>\n",
       "      <td>...</td>\n",
       "      <td>0.247998</td>\n",
       "      <td>0.771679</td>\n",
       "      <td>0.909412</td>\n",
       "      <td>-0.689281</td>\n",
       "      <td>-0.327642</td>\n",
       "      <td>-0.139097</td>\n",
       "      <td>-0.055353</td>\n",
       "      <td>-0.059752</td>\n",
       "      <td>378.66</td>\n",
       "      <td>0</td>\n",
       "    </tr>\n",
       "    <tr>\n",
       "      <th>3</th>\n",
       "      <td>1.0</td>\n",
       "      <td>-0.966272</td>\n",
       "      <td>-0.185226</td>\n",
       "      <td>1.792993</td>\n",
       "      <td>-0.863291</td>\n",
       "      <td>-0.010309</td>\n",
       "      <td>1.247203</td>\n",
       "      <td>0.237609</td>\n",
       "      <td>0.377436</td>\n",
       "      <td>-1.387024</td>\n",
       "      <td>...</td>\n",
       "      <td>-0.108300</td>\n",
       "      <td>0.005274</td>\n",
       "      <td>-0.190321</td>\n",
       "      <td>-1.175575</td>\n",
       "      <td>0.647376</td>\n",
       "      <td>-0.221929</td>\n",
       "      <td>0.062723</td>\n",
       "      <td>0.061458</td>\n",
       "      <td>123.50</td>\n",
       "      <td>0</td>\n",
       "    </tr>\n",
       "    <tr>\n",
       "      <th>4</th>\n",
       "      <td>2.0</td>\n",
       "      <td>-1.158233</td>\n",
       "      <td>0.877737</td>\n",
       "      <td>1.548718</td>\n",
       "      <td>0.403034</td>\n",
       "      <td>-0.407193</td>\n",
       "      <td>0.095921</td>\n",
       "      <td>0.592941</td>\n",
       "      <td>-0.270533</td>\n",
       "      <td>0.817739</td>\n",
       "      <td>...</td>\n",
       "      <td>-0.009431</td>\n",
       "      <td>0.798278</td>\n",
       "      <td>-0.137458</td>\n",
       "      <td>0.141267</td>\n",
       "      <td>-0.206010</td>\n",
       "      <td>0.502292</td>\n",
       "      <td>0.219422</td>\n",
       "      <td>0.215153</td>\n",
       "      <td>69.99</td>\n",
       "      <td>0</td>\n",
       "    </tr>\n",
       "  </tbody>\n",
       "</table>\n",
       "<p>5 rows × 31 columns</p>\n",
       "</div>\n",
       "    <div class=\"colab-df-buttons\">\n",
       "\n",
       "  <div class=\"colab-df-container\">\n",
       "    <button class=\"colab-df-convert\" onclick=\"convertToInteractive('df-2c19ba55-c15c-4bcf-bb42-f9f356d3c9ab')\"\n",
       "            title=\"Convert this dataframe to an interactive table.\"\n",
       "            style=\"display:none;\">\n",
       "\n",
       "  <svg xmlns=\"http://www.w3.org/2000/svg\" height=\"24px\" viewBox=\"0 -960 960 960\">\n",
       "    <path d=\"M120-120v-720h720v720H120Zm60-500h600v-160H180v160Zm220 220h160v-160H400v160Zm0 220h160v-160H400v160ZM180-400h160v-160H180v160Zm440 0h160v-160H620v160ZM180-180h160v-160H180v160Zm440 0h160v-160H620v160Z\"/>\n",
       "  </svg>\n",
       "    </button>\n",
       "\n",
       "  <style>\n",
       "    .colab-df-container {\n",
       "      display:flex;\n",
       "      gap: 12px;\n",
       "    }\n",
       "\n",
       "    .colab-df-convert {\n",
       "      background-color: #E8F0FE;\n",
       "      border: none;\n",
       "      border-radius: 50%;\n",
       "      cursor: pointer;\n",
       "      display: none;\n",
       "      fill: #1967D2;\n",
       "      height: 32px;\n",
       "      padding: 0 0 0 0;\n",
       "      width: 32px;\n",
       "    }\n",
       "\n",
       "    .colab-df-convert:hover {\n",
       "      background-color: #E2EBFA;\n",
       "      box-shadow: 0px 1px 2px rgba(60, 64, 67, 0.3), 0px 1px 3px 1px rgba(60, 64, 67, 0.15);\n",
       "      fill: #174EA6;\n",
       "    }\n",
       "\n",
       "    .colab-df-buttons div {\n",
       "      margin-bottom: 4px;\n",
       "    }\n",
       "\n",
       "    [theme=dark] .colab-df-convert {\n",
       "      background-color: #3B4455;\n",
       "      fill: #D2E3FC;\n",
       "    }\n",
       "\n",
       "    [theme=dark] .colab-df-convert:hover {\n",
       "      background-color: #434B5C;\n",
       "      box-shadow: 0px 1px 3px 1px rgba(0, 0, 0, 0.15);\n",
       "      filter: drop-shadow(0px 1px 2px rgba(0, 0, 0, 0.3));\n",
       "      fill: #FFFFFF;\n",
       "    }\n",
       "  </style>\n",
       "\n",
       "    <script>\n",
       "      const buttonEl =\n",
       "        document.querySelector('#df-2c19ba55-c15c-4bcf-bb42-f9f356d3c9ab button.colab-df-convert');\n",
       "      buttonEl.style.display =\n",
       "        google.colab.kernel.accessAllowed ? 'block' : 'none';\n",
       "\n",
       "      async function convertToInteractive(key) {\n",
       "        const element = document.querySelector('#df-2c19ba55-c15c-4bcf-bb42-f9f356d3c9ab');\n",
       "        const dataTable =\n",
       "          await google.colab.kernel.invokeFunction('convertToInteractive',\n",
       "                                                    [key], {});\n",
       "        if (!dataTable) return;\n",
       "\n",
       "        const docLinkHtml = 'Like what you see? Visit the ' +\n",
       "          '<a target=\"_blank\" href=https://colab.research.google.com/notebooks/data_table.ipynb>data table notebook</a>'\n",
       "          + ' to learn more about interactive tables.';\n",
       "        element.innerHTML = '';\n",
       "        dataTable['output_type'] = 'display_data';\n",
       "        await google.colab.output.renderOutput(dataTable, element);\n",
       "        const docLink = document.createElement('div');\n",
       "        docLink.innerHTML = docLinkHtml;\n",
       "        element.appendChild(docLink);\n",
       "      }\n",
       "    </script>\n",
       "  </div>\n",
       "\n",
       "\n",
       "    <div id=\"df-34739ed9-d41a-4c02-ae13-bdd1027eb1c3\">\n",
       "      <button class=\"colab-df-quickchart\" onclick=\"quickchart('df-34739ed9-d41a-4c02-ae13-bdd1027eb1c3')\"\n",
       "                title=\"Suggest charts\"\n",
       "                style=\"display:none;\">\n",
       "\n",
       "<svg xmlns=\"http://www.w3.org/2000/svg\" height=\"24px\"viewBox=\"0 0 24 24\"\n",
       "     width=\"24px\">\n",
       "    <g>\n",
       "        <path d=\"M19 3H5c-1.1 0-2 .9-2 2v14c0 1.1.9 2 2 2h14c1.1 0 2-.9 2-2V5c0-1.1-.9-2-2-2zM9 17H7v-7h2v7zm4 0h-2V7h2v10zm4 0h-2v-4h2v4z\"/>\n",
       "    </g>\n",
       "</svg>\n",
       "      </button>\n",
       "\n",
       "<style>\n",
       "  .colab-df-quickchart {\n",
       "      --bg-color: #E8F0FE;\n",
       "      --fill-color: #1967D2;\n",
       "      --hover-bg-color: #E2EBFA;\n",
       "      --hover-fill-color: #174EA6;\n",
       "      --disabled-fill-color: #AAA;\n",
       "      --disabled-bg-color: #DDD;\n",
       "  }\n",
       "\n",
       "  [theme=dark] .colab-df-quickchart {\n",
       "      --bg-color: #3B4455;\n",
       "      --fill-color: #D2E3FC;\n",
       "      --hover-bg-color: #434B5C;\n",
       "      --hover-fill-color: #FFFFFF;\n",
       "      --disabled-bg-color: #3B4455;\n",
       "      --disabled-fill-color: #666;\n",
       "  }\n",
       "\n",
       "  .colab-df-quickchart {\n",
       "    background-color: var(--bg-color);\n",
       "    border: none;\n",
       "    border-radius: 50%;\n",
       "    cursor: pointer;\n",
       "    display: none;\n",
       "    fill: var(--fill-color);\n",
       "    height: 32px;\n",
       "    padding: 0;\n",
       "    width: 32px;\n",
       "  }\n",
       "\n",
       "  .colab-df-quickchart:hover {\n",
       "    background-color: var(--hover-bg-color);\n",
       "    box-shadow: 0 1px 2px rgba(60, 64, 67, 0.3), 0 1px 3px 1px rgba(60, 64, 67, 0.15);\n",
       "    fill: var(--button-hover-fill-color);\n",
       "  }\n",
       "\n",
       "  .colab-df-quickchart-complete:disabled,\n",
       "  .colab-df-quickchart-complete:disabled:hover {\n",
       "    background-color: var(--disabled-bg-color);\n",
       "    fill: var(--disabled-fill-color);\n",
       "    box-shadow: none;\n",
       "  }\n",
       "\n",
       "  .colab-df-spinner {\n",
       "    border: 2px solid var(--fill-color);\n",
       "    border-color: transparent;\n",
       "    border-bottom-color: var(--fill-color);\n",
       "    animation:\n",
       "      spin 1s steps(1) infinite;\n",
       "  }\n",
       "\n",
       "  @keyframes spin {\n",
       "    0% {\n",
       "      border-color: transparent;\n",
       "      border-bottom-color: var(--fill-color);\n",
       "      border-left-color: var(--fill-color);\n",
       "    }\n",
       "    20% {\n",
       "      border-color: transparent;\n",
       "      border-left-color: var(--fill-color);\n",
       "      border-top-color: var(--fill-color);\n",
       "    }\n",
       "    30% {\n",
       "      border-color: transparent;\n",
       "      border-left-color: var(--fill-color);\n",
       "      border-top-color: var(--fill-color);\n",
       "      border-right-color: var(--fill-color);\n",
       "    }\n",
       "    40% {\n",
       "      border-color: transparent;\n",
       "      border-right-color: var(--fill-color);\n",
       "      border-top-color: var(--fill-color);\n",
       "    }\n",
       "    60% {\n",
       "      border-color: transparent;\n",
       "      border-right-color: var(--fill-color);\n",
       "    }\n",
       "    80% {\n",
       "      border-color: transparent;\n",
       "      border-right-color: var(--fill-color);\n",
       "      border-bottom-color: var(--fill-color);\n",
       "    }\n",
       "    90% {\n",
       "      border-color: transparent;\n",
       "      border-bottom-color: var(--fill-color);\n",
       "    }\n",
       "  }\n",
       "</style>\n",
       "\n",
       "      <script>\n",
       "        async function quickchart(key) {\n",
       "          const quickchartButtonEl =\n",
       "            document.querySelector('#' + key + ' button');\n",
       "          quickchartButtonEl.disabled = true;  // To prevent multiple clicks.\n",
       "          quickchartButtonEl.classList.add('colab-df-spinner');\n",
       "          try {\n",
       "            const charts = await google.colab.kernel.invokeFunction(\n",
       "                'suggestCharts', [key], {});\n",
       "          } catch (error) {\n",
       "            console.error('Error during call to suggestCharts:', error);\n",
       "          }\n",
       "          quickchartButtonEl.classList.remove('colab-df-spinner');\n",
       "          quickchartButtonEl.classList.add('colab-df-quickchart-complete');\n",
       "        }\n",
       "        (() => {\n",
       "          let quickchartButtonEl =\n",
       "            document.querySelector('#df-34739ed9-d41a-4c02-ae13-bdd1027eb1c3 button');\n",
       "          quickchartButtonEl.style.display =\n",
       "            google.colab.kernel.accessAllowed ? 'block' : 'none';\n",
       "        })();\n",
       "      </script>\n",
       "    </div>\n",
       "\n",
       "    </div>\n",
       "  </div>\n"
      ],
      "text/plain": [
       "   Time        V1        V2        V3        V4        V5        V6        V7  \\\n",
       "0   0.0 -1.359807 -0.072781  2.536347  1.378155 -0.338321  0.462388  0.239599   \n",
       "1   0.0  1.191857  0.266151  0.166480  0.448154  0.060018 -0.082361 -0.078803   \n",
       "2   1.0 -1.358354 -1.340163  1.773209  0.379780 -0.503198  1.800499  0.791461   \n",
       "3   1.0 -0.966272 -0.185226  1.792993 -0.863291 -0.010309  1.247203  0.237609   \n",
       "4   2.0 -1.158233  0.877737  1.548718  0.403034 -0.407193  0.095921  0.592941   \n",
       "\n",
       "         V8        V9  ...       V21       V22       V23       V24       V25  \\\n",
       "0  0.098698  0.363787  ... -0.018307  0.277838 -0.110474  0.066928  0.128539   \n",
       "1  0.085102 -0.255425  ... -0.225775 -0.638672  0.101288 -0.339846  0.167170   \n",
       "2  0.247676 -1.514654  ...  0.247998  0.771679  0.909412 -0.689281 -0.327642   \n",
       "3  0.377436 -1.387024  ... -0.108300  0.005274 -0.190321 -1.175575  0.647376   \n",
       "4 -0.270533  0.817739  ... -0.009431  0.798278 -0.137458  0.141267 -0.206010   \n",
       "\n",
       "        V26       V27       V28  Amount  Class  \n",
       "0 -0.189115  0.133558 -0.021053  149.62      0  \n",
       "1  0.125895 -0.008983  0.014724    2.69      0  \n",
       "2 -0.139097 -0.055353 -0.059752  378.66      0  \n",
       "3 -0.221929  0.062723  0.061458  123.50      0  \n",
       "4  0.502292  0.219422  0.215153   69.99      0  \n",
       "\n",
       "[5 rows x 31 columns]"
      ]
     },
     "execution_count": 4,
     "metadata": {},
     "output_type": "execute_result"
    }
   ],
   "source": [
    "df.head()"
   ]
  },
  {
   "cell_type": "code",
   "execution_count": 5,
   "metadata": {
    "colab": {
     "base_uri": "https://localhost:8080/",
     "height": 350
    },
    "executionInfo": {
     "elapsed": 469,
     "status": "ok",
     "timestamp": 1746715132870,
     "user": {
      "displayName": "Angelo Marcelino",
      "userId": "12130434257979385717"
     },
     "user_tz": 180
    },
    "id": "ZQeAiVFhB8ED",
    "outputId": "95886a41-2302-4f43-ae88-23ba40f9f299"
   },
   "outputs": [
    {
     "data": {
      "application/vnd.google.colaboratory.intrinsic+json": {
       "type": "dataframe"
      },
      "text/html": [
       "\n",
       "  <div id=\"df-b7c59565-b9d4-49c9-805c-c0f5bafd8363\" class=\"colab-df-container\">\n",
       "    <div>\n",
       "<style scoped>\n",
       "    .dataframe tbody tr th:only-of-type {\n",
       "        vertical-align: middle;\n",
       "    }\n",
       "\n",
       "    .dataframe tbody tr th {\n",
       "        vertical-align: top;\n",
       "    }\n",
       "\n",
       "    .dataframe thead th {\n",
       "        text-align: right;\n",
       "    }\n",
       "</style>\n",
       "<table border=\"1\" class=\"dataframe\">\n",
       "  <thead>\n",
       "    <tr style=\"text-align: right;\">\n",
       "      <th></th>\n",
       "      <th>Time</th>\n",
       "      <th>V1</th>\n",
       "      <th>V2</th>\n",
       "      <th>V3</th>\n",
       "      <th>V4</th>\n",
       "      <th>V5</th>\n",
       "      <th>V6</th>\n",
       "      <th>V7</th>\n",
       "      <th>V8</th>\n",
       "      <th>V9</th>\n",
       "      <th>...</th>\n",
       "      <th>V21</th>\n",
       "      <th>V22</th>\n",
       "      <th>V23</th>\n",
       "      <th>V24</th>\n",
       "      <th>V25</th>\n",
       "      <th>V26</th>\n",
       "      <th>V27</th>\n",
       "      <th>V28</th>\n",
       "      <th>Amount</th>\n",
       "      <th>Class</th>\n",
       "    </tr>\n",
       "  </thead>\n",
       "  <tbody>\n",
       "    <tr>\n",
       "      <th>count</th>\n",
       "      <td>284807.000000</td>\n",
       "      <td>2.848070e+05</td>\n",
       "      <td>2.848070e+05</td>\n",
       "      <td>2.848070e+05</td>\n",
       "      <td>2.848070e+05</td>\n",
       "      <td>2.848070e+05</td>\n",
       "      <td>2.848070e+05</td>\n",
       "      <td>2.848070e+05</td>\n",
       "      <td>2.848070e+05</td>\n",
       "      <td>2.848070e+05</td>\n",
       "      <td>...</td>\n",
       "      <td>2.848070e+05</td>\n",
       "      <td>2.848070e+05</td>\n",
       "      <td>2.848070e+05</td>\n",
       "      <td>2.848070e+05</td>\n",
       "      <td>2.848070e+05</td>\n",
       "      <td>2.848070e+05</td>\n",
       "      <td>2.848070e+05</td>\n",
       "      <td>2.848070e+05</td>\n",
       "      <td>284807.000000</td>\n",
       "      <td>284807.000000</td>\n",
       "    </tr>\n",
       "    <tr>\n",
       "      <th>mean</th>\n",
       "      <td>94813.859575</td>\n",
       "      <td>1.168375e-15</td>\n",
       "      <td>3.416908e-16</td>\n",
       "      <td>-1.379537e-15</td>\n",
       "      <td>2.074095e-15</td>\n",
       "      <td>9.604066e-16</td>\n",
       "      <td>1.487313e-15</td>\n",
       "      <td>-5.556467e-16</td>\n",
       "      <td>1.213481e-16</td>\n",
       "      <td>-2.406331e-15</td>\n",
       "      <td>...</td>\n",
       "      <td>1.654067e-16</td>\n",
       "      <td>-3.568593e-16</td>\n",
       "      <td>2.578648e-16</td>\n",
       "      <td>4.473266e-15</td>\n",
       "      <td>5.340915e-16</td>\n",
       "      <td>1.683437e-15</td>\n",
       "      <td>-3.660091e-16</td>\n",
       "      <td>-1.227390e-16</td>\n",
       "      <td>88.349619</td>\n",
       "      <td>0.001727</td>\n",
       "    </tr>\n",
       "    <tr>\n",
       "      <th>std</th>\n",
       "      <td>47488.145955</td>\n",
       "      <td>1.958696e+00</td>\n",
       "      <td>1.651309e+00</td>\n",
       "      <td>1.516255e+00</td>\n",
       "      <td>1.415869e+00</td>\n",
       "      <td>1.380247e+00</td>\n",
       "      <td>1.332271e+00</td>\n",
       "      <td>1.237094e+00</td>\n",
       "      <td>1.194353e+00</td>\n",
       "      <td>1.098632e+00</td>\n",
       "      <td>...</td>\n",
       "      <td>7.345240e-01</td>\n",
       "      <td>7.257016e-01</td>\n",
       "      <td>6.244603e-01</td>\n",
       "      <td>6.056471e-01</td>\n",
       "      <td>5.212781e-01</td>\n",
       "      <td>4.822270e-01</td>\n",
       "      <td>4.036325e-01</td>\n",
       "      <td>3.300833e-01</td>\n",
       "      <td>250.120109</td>\n",
       "      <td>0.041527</td>\n",
       "    </tr>\n",
       "    <tr>\n",
       "      <th>min</th>\n",
       "      <td>0.000000</td>\n",
       "      <td>-5.640751e+01</td>\n",
       "      <td>-7.271573e+01</td>\n",
       "      <td>-4.832559e+01</td>\n",
       "      <td>-5.683171e+00</td>\n",
       "      <td>-1.137433e+02</td>\n",
       "      <td>-2.616051e+01</td>\n",
       "      <td>-4.355724e+01</td>\n",
       "      <td>-7.321672e+01</td>\n",
       "      <td>-1.343407e+01</td>\n",
       "      <td>...</td>\n",
       "      <td>-3.483038e+01</td>\n",
       "      <td>-1.093314e+01</td>\n",
       "      <td>-4.480774e+01</td>\n",
       "      <td>-2.836627e+00</td>\n",
       "      <td>-1.029540e+01</td>\n",
       "      <td>-2.604551e+00</td>\n",
       "      <td>-2.256568e+01</td>\n",
       "      <td>-1.543008e+01</td>\n",
       "      <td>0.000000</td>\n",
       "      <td>0.000000</td>\n",
       "    </tr>\n",
       "    <tr>\n",
       "      <th>25%</th>\n",
       "      <td>54201.500000</td>\n",
       "      <td>-9.203734e-01</td>\n",
       "      <td>-5.985499e-01</td>\n",
       "      <td>-8.903648e-01</td>\n",
       "      <td>-8.486401e-01</td>\n",
       "      <td>-6.915971e-01</td>\n",
       "      <td>-7.682956e-01</td>\n",
       "      <td>-5.540759e-01</td>\n",
       "      <td>-2.086297e-01</td>\n",
       "      <td>-6.430976e-01</td>\n",
       "      <td>...</td>\n",
       "      <td>-2.283949e-01</td>\n",
       "      <td>-5.423504e-01</td>\n",
       "      <td>-1.618463e-01</td>\n",
       "      <td>-3.545861e-01</td>\n",
       "      <td>-3.171451e-01</td>\n",
       "      <td>-3.269839e-01</td>\n",
       "      <td>-7.083953e-02</td>\n",
       "      <td>-5.295979e-02</td>\n",
       "      <td>5.600000</td>\n",
       "      <td>0.000000</td>\n",
       "    </tr>\n",
       "    <tr>\n",
       "      <th>50%</th>\n",
       "      <td>84692.000000</td>\n",
       "      <td>1.810880e-02</td>\n",
       "      <td>6.548556e-02</td>\n",
       "      <td>1.798463e-01</td>\n",
       "      <td>-1.984653e-02</td>\n",
       "      <td>-5.433583e-02</td>\n",
       "      <td>-2.741871e-01</td>\n",
       "      <td>4.010308e-02</td>\n",
       "      <td>2.235804e-02</td>\n",
       "      <td>-5.142873e-02</td>\n",
       "      <td>...</td>\n",
       "      <td>-2.945017e-02</td>\n",
       "      <td>6.781943e-03</td>\n",
       "      <td>-1.119293e-02</td>\n",
       "      <td>4.097606e-02</td>\n",
       "      <td>1.659350e-02</td>\n",
       "      <td>-5.213911e-02</td>\n",
       "      <td>1.342146e-03</td>\n",
       "      <td>1.124383e-02</td>\n",
       "      <td>22.000000</td>\n",
       "      <td>0.000000</td>\n",
       "    </tr>\n",
       "    <tr>\n",
       "      <th>75%</th>\n",
       "      <td>139320.500000</td>\n",
       "      <td>1.315642e+00</td>\n",
       "      <td>8.037239e-01</td>\n",
       "      <td>1.027196e+00</td>\n",
       "      <td>7.433413e-01</td>\n",
       "      <td>6.119264e-01</td>\n",
       "      <td>3.985649e-01</td>\n",
       "      <td>5.704361e-01</td>\n",
       "      <td>3.273459e-01</td>\n",
       "      <td>5.971390e-01</td>\n",
       "      <td>...</td>\n",
       "      <td>1.863772e-01</td>\n",
       "      <td>5.285536e-01</td>\n",
       "      <td>1.476421e-01</td>\n",
       "      <td>4.395266e-01</td>\n",
       "      <td>3.507156e-01</td>\n",
       "      <td>2.409522e-01</td>\n",
       "      <td>9.104512e-02</td>\n",
       "      <td>7.827995e-02</td>\n",
       "      <td>77.165000</td>\n",
       "      <td>0.000000</td>\n",
       "    </tr>\n",
       "    <tr>\n",
       "      <th>max</th>\n",
       "      <td>172792.000000</td>\n",
       "      <td>2.454930e+00</td>\n",
       "      <td>2.205773e+01</td>\n",
       "      <td>9.382558e+00</td>\n",
       "      <td>1.687534e+01</td>\n",
       "      <td>3.480167e+01</td>\n",
       "      <td>7.330163e+01</td>\n",
       "      <td>1.205895e+02</td>\n",
       "      <td>2.000721e+01</td>\n",
       "      <td>1.559499e+01</td>\n",
       "      <td>...</td>\n",
       "      <td>2.720284e+01</td>\n",
       "      <td>1.050309e+01</td>\n",
       "      <td>2.252841e+01</td>\n",
       "      <td>4.584549e+00</td>\n",
       "      <td>7.519589e+00</td>\n",
       "      <td>3.517346e+00</td>\n",
       "      <td>3.161220e+01</td>\n",
       "      <td>3.384781e+01</td>\n",
       "      <td>25691.160000</td>\n",
       "      <td>1.000000</td>\n",
       "    </tr>\n",
       "  </tbody>\n",
       "</table>\n",
       "<p>8 rows × 31 columns</p>\n",
       "</div>\n",
       "    <div class=\"colab-df-buttons\">\n",
       "\n",
       "  <div class=\"colab-df-container\">\n",
       "    <button class=\"colab-df-convert\" onclick=\"convertToInteractive('df-b7c59565-b9d4-49c9-805c-c0f5bafd8363')\"\n",
       "            title=\"Convert this dataframe to an interactive table.\"\n",
       "            style=\"display:none;\">\n",
       "\n",
       "  <svg xmlns=\"http://www.w3.org/2000/svg\" height=\"24px\" viewBox=\"0 -960 960 960\">\n",
       "    <path d=\"M120-120v-720h720v720H120Zm60-500h600v-160H180v160Zm220 220h160v-160H400v160Zm0 220h160v-160H400v160ZM180-400h160v-160H180v160Zm440 0h160v-160H620v160ZM180-180h160v-160H180v160Zm440 0h160v-160H620v160Z\"/>\n",
       "  </svg>\n",
       "    </button>\n",
       "\n",
       "  <style>\n",
       "    .colab-df-container {\n",
       "      display:flex;\n",
       "      gap: 12px;\n",
       "    }\n",
       "\n",
       "    .colab-df-convert {\n",
       "      background-color: #E8F0FE;\n",
       "      border: none;\n",
       "      border-radius: 50%;\n",
       "      cursor: pointer;\n",
       "      display: none;\n",
       "      fill: #1967D2;\n",
       "      height: 32px;\n",
       "      padding: 0 0 0 0;\n",
       "      width: 32px;\n",
       "    }\n",
       "\n",
       "    .colab-df-convert:hover {\n",
       "      background-color: #E2EBFA;\n",
       "      box-shadow: 0px 1px 2px rgba(60, 64, 67, 0.3), 0px 1px 3px 1px rgba(60, 64, 67, 0.15);\n",
       "      fill: #174EA6;\n",
       "    }\n",
       "\n",
       "    .colab-df-buttons div {\n",
       "      margin-bottom: 4px;\n",
       "    }\n",
       "\n",
       "    [theme=dark] .colab-df-convert {\n",
       "      background-color: #3B4455;\n",
       "      fill: #D2E3FC;\n",
       "    }\n",
       "\n",
       "    [theme=dark] .colab-df-convert:hover {\n",
       "      background-color: #434B5C;\n",
       "      box-shadow: 0px 1px 3px 1px rgba(0, 0, 0, 0.15);\n",
       "      filter: drop-shadow(0px 1px 2px rgba(0, 0, 0, 0.3));\n",
       "      fill: #FFFFFF;\n",
       "    }\n",
       "  </style>\n",
       "\n",
       "    <script>\n",
       "      const buttonEl =\n",
       "        document.querySelector('#df-b7c59565-b9d4-49c9-805c-c0f5bafd8363 button.colab-df-convert');\n",
       "      buttonEl.style.display =\n",
       "        google.colab.kernel.accessAllowed ? 'block' : 'none';\n",
       "\n",
       "      async function convertToInteractive(key) {\n",
       "        const element = document.querySelector('#df-b7c59565-b9d4-49c9-805c-c0f5bafd8363');\n",
       "        const dataTable =\n",
       "          await google.colab.kernel.invokeFunction('convertToInteractive',\n",
       "                                                    [key], {});\n",
       "        if (!dataTable) return;\n",
       "\n",
       "        const docLinkHtml = 'Like what you see? Visit the ' +\n",
       "          '<a target=\"_blank\" href=https://colab.research.google.com/notebooks/data_table.ipynb>data table notebook</a>'\n",
       "          + ' to learn more about interactive tables.';\n",
       "        element.innerHTML = '';\n",
       "        dataTable['output_type'] = 'display_data';\n",
       "        await google.colab.output.renderOutput(dataTable, element);\n",
       "        const docLink = document.createElement('div');\n",
       "        docLink.innerHTML = docLinkHtml;\n",
       "        element.appendChild(docLink);\n",
       "      }\n",
       "    </script>\n",
       "  </div>\n",
       "\n",
       "\n",
       "    <div id=\"df-9c6a8fe5-4b2f-4729-91d3-9fc5b1ee6d92\">\n",
       "      <button class=\"colab-df-quickchart\" onclick=\"quickchart('df-9c6a8fe5-4b2f-4729-91d3-9fc5b1ee6d92')\"\n",
       "                title=\"Suggest charts\"\n",
       "                style=\"display:none;\">\n",
       "\n",
       "<svg xmlns=\"http://www.w3.org/2000/svg\" height=\"24px\"viewBox=\"0 0 24 24\"\n",
       "     width=\"24px\">\n",
       "    <g>\n",
       "        <path d=\"M19 3H5c-1.1 0-2 .9-2 2v14c0 1.1.9 2 2 2h14c1.1 0 2-.9 2-2V5c0-1.1-.9-2-2-2zM9 17H7v-7h2v7zm4 0h-2V7h2v10zm4 0h-2v-4h2v4z\"/>\n",
       "    </g>\n",
       "</svg>\n",
       "      </button>\n",
       "\n",
       "<style>\n",
       "  .colab-df-quickchart {\n",
       "      --bg-color: #E8F0FE;\n",
       "      --fill-color: #1967D2;\n",
       "      --hover-bg-color: #E2EBFA;\n",
       "      --hover-fill-color: #174EA6;\n",
       "      --disabled-fill-color: #AAA;\n",
       "      --disabled-bg-color: #DDD;\n",
       "  }\n",
       "\n",
       "  [theme=dark] .colab-df-quickchart {\n",
       "      --bg-color: #3B4455;\n",
       "      --fill-color: #D2E3FC;\n",
       "      --hover-bg-color: #434B5C;\n",
       "      --hover-fill-color: #FFFFFF;\n",
       "      --disabled-bg-color: #3B4455;\n",
       "      --disabled-fill-color: #666;\n",
       "  }\n",
       "\n",
       "  .colab-df-quickchart {\n",
       "    background-color: var(--bg-color);\n",
       "    border: none;\n",
       "    border-radius: 50%;\n",
       "    cursor: pointer;\n",
       "    display: none;\n",
       "    fill: var(--fill-color);\n",
       "    height: 32px;\n",
       "    padding: 0;\n",
       "    width: 32px;\n",
       "  }\n",
       "\n",
       "  .colab-df-quickchart:hover {\n",
       "    background-color: var(--hover-bg-color);\n",
       "    box-shadow: 0 1px 2px rgba(60, 64, 67, 0.3), 0 1px 3px 1px rgba(60, 64, 67, 0.15);\n",
       "    fill: var(--button-hover-fill-color);\n",
       "  }\n",
       "\n",
       "  .colab-df-quickchart-complete:disabled,\n",
       "  .colab-df-quickchart-complete:disabled:hover {\n",
       "    background-color: var(--disabled-bg-color);\n",
       "    fill: var(--disabled-fill-color);\n",
       "    box-shadow: none;\n",
       "  }\n",
       "\n",
       "  .colab-df-spinner {\n",
       "    border: 2px solid var(--fill-color);\n",
       "    border-color: transparent;\n",
       "    border-bottom-color: var(--fill-color);\n",
       "    animation:\n",
       "      spin 1s steps(1) infinite;\n",
       "  }\n",
       "\n",
       "  @keyframes spin {\n",
       "    0% {\n",
       "      border-color: transparent;\n",
       "      border-bottom-color: var(--fill-color);\n",
       "      border-left-color: var(--fill-color);\n",
       "    }\n",
       "    20% {\n",
       "      border-color: transparent;\n",
       "      border-left-color: var(--fill-color);\n",
       "      border-top-color: var(--fill-color);\n",
       "    }\n",
       "    30% {\n",
       "      border-color: transparent;\n",
       "      border-left-color: var(--fill-color);\n",
       "      border-top-color: var(--fill-color);\n",
       "      border-right-color: var(--fill-color);\n",
       "    }\n",
       "    40% {\n",
       "      border-color: transparent;\n",
       "      border-right-color: var(--fill-color);\n",
       "      border-top-color: var(--fill-color);\n",
       "    }\n",
       "    60% {\n",
       "      border-color: transparent;\n",
       "      border-right-color: var(--fill-color);\n",
       "    }\n",
       "    80% {\n",
       "      border-color: transparent;\n",
       "      border-right-color: var(--fill-color);\n",
       "      border-bottom-color: var(--fill-color);\n",
       "    }\n",
       "    90% {\n",
       "      border-color: transparent;\n",
       "      border-bottom-color: var(--fill-color);\n",
       "    }\n",
       "  }\n",
       "</style>\n",
       "\n",
       "      <script>\n",
       "        async function quickchart(key) {\n",
       "          const quickchartButtonEl =\n",
       "            document.querySelector('#' + key + ' button');\n",
       "          quickchartButtonEl.disabled = true;  // To prevent multiple clicks.\n",
       "          quickchartButtonEl.classList.add('colab-df-spinner');\n",
       "          try {\n",
       "            const charts = await google.colab.kernel.invokeFunction(\n",
       "                'suggestCharts', [key], {});\n",
       "          } catch (error) {\n",
       "            console.error('Error during call to suggestCharts:', error);\n",
       "          }\n",
       "          quickchartButtonEl.classList.remove('colab-df-spinner');\n",
       "          quickchartButtonEl.classList.add('colab-df-quickchart-complete');\n",
       "        }\n",
       "        (() => {\n",
       "          let quickchartButtonEl =\n",
       "            document.querySelector('#df-9c6a8fe5-4b2f-4729-91d3-9fc5b1ee6d92 button');\n",
       "          quickchartButtonEl.style.display =\n",
       "            google.colab.kernel.accessAllowed ? 'block' : 'none';\n",
       "        })();\n",
       "      </script>\n",
       "    </div>\n",
       "\n",
       "    </div>\n",
       "  </div>\n"
      ],
      "text/plain": [
       "                Time            V1            V2            V3            V4  \\\n",
       "count  284807.000000  2.848070e+05  2.848070e+05  2.848070e+05  2.848070e+05   \n",
       "mean    94813.859575  1.168375e-15  3.416908e-16 -1.379537e-15  2.074095e-15   \n",
       "std     47488.145955  1.958696e+00  1.651309e+00  1.516255e+00  1.415869e+00   \n",
       "min         0.000000 -5.640751e+01 -7.271573e+01 -4.832559e+01 -5.683171e+00   \n",
       "25%     54201.500000 -9.203734e-01 -5.985499e-01 -8.903648e-01 -8.486401e-01   \n",
       "50%     84692.000000  1.810880e-02  6.548556e-02  1.798463e-01 -1.984653e-02   \n",
       "75%    139320.500000  1.315642e+00  8.037239e-01  1.027196e+00  7.433413e-01   \n",
       "max    172792.000000  2.454930e+00  2.205773e+01  9.382558e+00  1.687534e+01   \n",
       "\n",
       "                 V5            V6            V7            V8            V9  \\\n",
       "count  2.848070e+05  2.848070e+05  2.848070e+05  2.848070e+05  2.848070e+05   \n",
       "mean   9.604066e-16  1.487313e-15 -5.556467e-16  1.213481e-16 -2.406331e-15   \n",
       "std    1.380247e+00  1.332271e+00  1.237094e+00  1.194353e+00  1.098632e+00   \n",
       "min   -1.137433e+02 -2.616051e+01 -4.355724e+01 -7.321672e+01 -1.343407e+01   \n",
       "25%   -6.915971e-01 -7.682956e-01 -5.540759e-01 -2.086297e-01 -6.430976e-01   \n",
       "50%   -5.433583e-02 -2.741871e-01  4.010308e-02  2.235804e-02 -5.142873e-02   \n",
       "75%    6.119264e-01  3.985649e-01  5.704361e-01  3.273459e-01  5.971390e-01   \n",
       "max    3.480167e+01  7.330163e+01  1.205895e+02  2.000721e+01  1.559499e+01   \n",
       "\n",
       "       ...           V21           V22           V23           V24  \\\n",
       "count  ...  2.848070e+05  2.848070e+05  2.848070e+05  2.848070e+05   \n",
       "mean   ...  1.654067e-16 -3.568593e-16  2.578648e-16  4.473266e-15   \n",
       "std    ...  7.345240e-01  7.257016e-01  6.244603e-01  6.056471e-01   \n",
       "min    ... -3.483038e+01 -1.093314e+01 -4.480774e+01 -2.836627e+00   \n",
       "25%    ... -2.283949e-01 -5.423504e-01 -1.618463e-01 -3.545861e-01   \n",
       "50%    ... -2.945017e-02  6.781943e-03 -1.119293e-02  4.097606e-02   \n",
       "75%    ...  1.863772e-01  5.285536e-01  1.476421e-01  4.395266e-01   \n",
       "max    ...  2.720284e+01  1.050309e+01  2.252841e+01  4.584549e+00   \n",
       "\n",
       "                V25           V26           V27           V28         Amount  \\\n",
       "count  2.848070e+05  2.848070e+05  2.848070e+05  2.848070e+05  284807.000000   \n",
       "mean   5.340915e-16  1.683437e-15 -3.660091e-16 -1.227390e-16      88.349619   \n",
       "std    5.212781e-01  4.822270e-01  4.036325e-01  3.300833e-01     250.120109   \n",
       "min   -1.029540e+01 -2.604551e+00 -2.256568e+01 -1.543008e+01       0.000000   \n",
       "25%   -3.171451e-01 -3.269839e-01 -7.083953e-02 -5.295979e-02       5.600000   \n",
       "50%    1.659350e-02 -5.213911e-02  1.342146e-03  1.124383e-02      22.000000   \n",
       "75%    3.507156e-01  2.409522e-01  9.104512e-02  7.827995e-02      77.165000   \n",
       "max    7.519589e+00  3.517346e+00  3.161220e+01  3.384781e+01   25691.160000   \n",
       "\n",
       "               Class  \n",
       "count  284807.000000  \n",
       "mean        0.001727  \n",
       "std         0.041527  \n",
       "min         0.000000  \n",
       "25%         0.000000  \n",
       "50%         0.000000  \n",
       "75%         0.000000  \n",
       "max         1.000000  \n",
       "\n",
       "[8 rows x 31 columns]"
      ]
     },
     "execution_count": 5,
     "metadata": {},
     "output_type": "execute_result"
    }
   ],
   "source": [
    "df.describe()"
   ]
  },
  {
   "cell_type": "markdown",
   "metadata": {
    "id": "j_xD3DwC6770"
   },
   "source": [
    "# Archicteture Class"
   ]
  },
  {
   "cell_type": "code",
   "execution_count": 6,
   "metadata": {
    "executionInfo": {
     "elapsed": 50,
     "status": "ok",
     "timestamp": 1746715132931,
     "user": {
      "displayName": "Angelo Marcelino",
      "userId": "12130434257979385717"
     },
     "user_tz": 180
    },
    "id": "tahaVw536sic"
   },
   "outputs": [],
   "source": [
    "from threading import local\n",
    "import time\n",
    "\n",
    "class Architecture(object):\n",
    "    def __init__(self, model, loss_fn, optimizer, verbose = True):\n",
    "        # Here we define the attributes of our class\n",
    "        self.verbose = verbose\n",
    "\n",
    "        # We start by storing the arguments as attributes\n",
    "        # to use them later\n",
    "        self.model = model\n",
    "        self.loss_fn = loss_fn\n",
    "        self.optimizer = optimizer\n",
    "        self.device = 'cuda' if torch.cuda.is_available() else 'cpu'\n",
    "        # Let's send the model to the specified device right away\n",
    "        self.model.to(self.device)\n",
    "        if self.verbose:\n",
    "            print(f\"Model sent to {self.device}\")\n",
    "\n",
    "        # These attributes are defined here, but since they are\n",
    "        # not informed at the moment of creation, we keep them None\n",
    "        self.train_loader = None\n",
    "        self.val_loader = None\n",
    "\n",
    "        # These attributes are going to be computed internally\n",
    "        self.losses = []\n",
    "        self.val_losses = []\n",
    "        self.total_epochs = 0\n",
    "\n",
    "        # Creates the train_step function for our model,\n",
    "        # loss function and optimizer\n",
    "        # Note: there are NO ARGS there! It makes use of the class\n",
    "        # attributes directly\n",
    "        self.train_step_fn = self._make_train_step_fn()\n",
    "        # Creates the val_step function for our model and loss\n",
    "        self.val_step_fn = self._make_val_step_fn()\n",
    "        if self.verbose:\n",
    "            print(\"Architecture created\")\n",
    "\n",
    "    def to(self, device):\n",
    "        # This method allows the user to specify a different device\n",
    "        # It sets the corresponding attribute (to be used later in\n",
    "        # the mini-batches) and sends the model to the device\n",
    "        try:\n",
    "            self.device = device\n",
    "            self.model.to(self.device)\n",
    "            if self.verbose:\n",
    "                print(f\"Model sent to {device}\")\n",
    "        except RuntimeError:\n",
    "            self.device = 'cuda' if torch.cuda.is_available() else 'cpu'\n",
    "            print(f\"Couldn't send it to {device}, sending it to {self.device} instead.\")\n",
    "            self.model.to(self.device)\n",
    "\n",
    "    def set_loaders(self, train_loader, val_loader=None):\n",
    "        # This method allows the user to define which train_loader (and val_loader, optionally) to use\n",
    "        # Both loaders are then assigned to attributes of the class\n",
    "        # So they can be referred to later\n",
    "        self.train_loader = train_loader\n",
    "        self.val_loader = val_loader\n",
    "\n",
    "        if self.verbose:\n",
    "            # Print train loader info\n",
    "            print(\"Loaders set\")\n",
    "            if self.train_loader.dataset:\n",
    "                print(f\"Train dataset size: {len(self.train_loader.dataset)}\")\n",
    "            if self.train_loader.batch_size:\n",
    "                print(f\"Train batch size: {self.train_loader.batch_size}\")\n",
    "\n",
    "    def _make_train_step_fn(self):\n",
    "        # This method does not need ARGS... it can refer to\n",
    "        # the attributes: self.model, self.loss_fn and self.optimizer\n",
    "\n",
    "        # Builds function that performs a step in the train loop\n",
    "        def perform_train_step_fn(x, y):\n",
    "            # Sets model to TRAIN mode\n",
    "            self.model.train()\n",
    "\n",
    "            # Step 1 - Computes our model's predicted output - forward pass\n",
    "            yhat = self.model(x)\n",
    "            # Step 2 - Computes the loss\n",
    "            loss = self.loss_fn(yhat, y)\n",
    "            # Step 3 - Computes gradients for both \"a\" and \"b\" parameters\n",
    "            loss.backward()\n",
    "            # Step 4 - Updates parameters using gradients and the learning rate\n",
    "            self.optimizer.step()\n",
    "            self.optimizer.zero_grad()\n",
    "\n",
    "            # Returns the loss\n",
    "            return loss.item()\n",
    "\n",
    "        # Returns the function that will be called inside the train loop\n",
    "        return perform_train_step_fn\n",
    "\n",
    "    def _make_val_step_fn(self):\n",
    "        # Builds function that performs a step in the validation loop\n",
    "        def perform_val_step_fn(x, y):\n",
    "            # Sets model to EVAL mode\n",
    "            self.model.eval()\n",
    "\n",
    "            # Step 1 - Computes our model's predicted output - forward pass\n",
    "            yhat = self.model(x)\n",
    "            # Step 2 - Computes the loss\n",
    "            loss = self.loss_fn(yhat, y)\n",
    "            # There is no need to compute Steps 3 and 4, since we don't update parameters during evaluation\n",
    "            return loss.item()\n",
    "\n",
    "        return perform_val_step_fn\n",
    "\n",
    "    def _mini_batch(self, validation=False, verbose_mini_batch=None, mini_batch_report = 100):\n",
    "        # The mini-batch can be used with both loaders\n",
    "        # The argument `validation`defines which loader and\n",
    "        # corresponding step function is going to be used\n",
    "        if validation:\n",
    "            data_loader = self.val_loader\n",
    "            step_fn = self.val_step_fn\n",
    "        else:\n",
    "            data_loader = self.train_loader\n",
    "            step_fn = self.train_step_fn\n",
    "\n",
    "        if data_loader is None:\n",
    "            return None\n",
    "\n",
    "        local_verbose = verbose_mini_batch and self.verbose\n",
    "\n",
    "        if local_verbose:\n",
    "            print(\"\\tStarting mini-batch...\")\n",
    "\n",
    "        # Once the data loader and step function, this is the same\n",
    "        # mini-batch loop we had before\n",
    "        mini_batch_losses = []\n",
    "        count = 0\n",
    "        for x_batch, y_batch in data_loader:\n",
    "            x_batch = x_batch.to(self.device)\n",
    "            y_batch = y_batch.to(self.device)\n",
    "            count += 1\n",
    "\n",
    "            mini_batch_loss = step_fn(x_batch, y_batch)\n",
    "            mini_batch_losses.append(mini_batch_loss)\n",
    "\n",
    "            if local_verbose and count % mini_batch_report == 0:\n",
    "                print(f\"\\t\\tBatch {count}/{len(data_loader)}, loss: {mini_batch_loss}\")\n",
    "\n",
    "        loss = np.mean(mini_batch_losses)\n",
    "        return loss\n",
    "\n",
    "    def set_seed(self, seed=42):\n",
    "        torch.backends.cudnn.deterministic = True\n",
    "        torch.backends.cudnn.benchmark = False\n",
    "        torch.manual_seed(seed)\n",
    "        np.random.seed(seed)\n",
    "        if self.verbose:\n",
    "            print(f\"Random seed set to {seed}\")\n",
    "\n",
    "    def train(self, n_epochs, seed=42, verbose=None, verbose_mini_batch=False, mini_batch_report=100, batch_report=10):\n",
    "        self.set_seed(seed)\n",
    "\n",
    "        local_verbose = self.verbose if verbose is None else verbose\n",
    "        epoch_times = []\n",
    "\n",
    "        if local_verbose:\n",
    "            print(\"Starting training...\")\n",
    "            global_start = time.time()\n",
    "\n",
    "        for epoch in range(n_epochs):\n",
    "            epoch_start = time.time()\n",
    "            self.total_epochs += 1\n",
    "\n",
    "            # Training step\n",
    "            loss = self._mini_batch(\n",
    "                validation=False,\n",
    "                verbose_mini_batch=verbose_mini_batch,\n",
    "                mini_batch_report=mini_batch_report\n",
    "            )\n",
    "            self.losses.append(loss)\n",
    "\n",
    "            # Validation step\n",
    "            with torch.no_grad():\n",
    "                val_loss = self._mini_batch(validation=True)\n",
    "                self.val_losses.append(val_loss)\n",
    "\n",
    "            epoch_end = time.time()\n",
    "            elapsed = epoch_end - epoch_start\n",
    "            epoch_times.append(elapsed)\n",
    "\n",
    "            is_first_epoch = epoch == 0\n",
    "            is_last_epoch = epoch == n_epochs - 1\n",
    "\n",
    "            has_report = is_first_epoch or is_last_epoch or (epoch + 1) % batch_report == 0\n",
    "\n",
    "            if local_verbose and has_report:\n",
    "                # Predict remaining duration\n",
    "                avg_time = sum(epoch_times) / len(epoch_times)\n",
    "                remaining_epochs = n_epochs - (epoch + 1)\n",
    "                estimated_remaining_secs = avg_time * remaining_epochs\n",
    "                mins, secs = divmod(int(estimated_remaining_secs), 60)\n",
    "\n",
    "                print(\n",
    "                    f\"Epoch {self.total_epochs}/{n_epochs} | \"\n",
    "                    f\"Train loss: {loss:.8f} | Val. loss: {val_loss:.8f} | \"\n",
    "                    f\"Time: {elapsed:.2f}s | ETA: {mins}m {secs}s\"\n",
    "                )\n",
    "\n",
    "        if local_verbose:\n",
    "            total_time = time.time() - global_start\n",
    "            mean_epoch_time = sum(epoch_times) / len(epoch_times)\n",
    "            print(f\"Training completed in {total_time:.2f} seconds.\")\n",
    "            print(f\"Mean time per epoch: {mean_epoch_time:.2f} seconds.\")\n",
    "\n",
    "    def save_checkpoint(self, filename):\n",
    "        # Builds dictionary with all elements for resuming training\n",
    "        checkpoint = {'epoch': self.total_epochs,\n",
    "                      'model_state_dict': self.model.state_dict(),\n",
    "                      'optimizer_state_dict': self.optimizer.state_dict(),\n",
    "                      'loss': self.losses,\n",
    "                      'val_loss': self.val_losses}\n",
    "\n",
    "        torch.save(checkpoint, filename)\n",
    "        if self.verbose:\n",
    "            print(checkpoint)\n",
    "            print(f\"Checkpoint saved to {filename}\")\n",
    "\n",
    "\n",
    "    def load_checkpoint(self, filename):\n",
    "        # Loads dictionary\n",
    "        checkpoint = torch.load(filename,weights_only=False)\n",
    "\n",
    "        # Restore state for model and optimizer\n",
    "        self.model.load_state_dict(checkpoint['model_state_dict'])\n",
    "        self.optimizer.load_state_dict(checkpoint['optimizer_state_dict'])\n",
    "\n",
    "        self.total_epochs = checkpoint['epoch']\n",
    "        self.losses = checkpoint['loss']\n",
    "        self.val_losses = checkpoint['val_loss']\n",
    "\n",
    "        self.model.train() # always use TRAIN for resuming training\n",
    "\n",
    "        if self.verbose:\n",
    "            print(f\"Checkpoint loaded from {filename}\")\n",
    "            print(checkpoint)\n",
    "\n",
    "    def predict(self, x):\n",
    "        # Set is to evaluation mode for predictions\n",
    "        self.model.eval()\n",
    "        # Takes aNumpy input and make it a float tensor\n",
    "        x_tensor = torch.as_tensor(x).float()\n",
    "        # Send input to device and uses model for prediction\n",
    "        y_hat_tensor = self.model(x_tensor.to(self.device))\n",
    "        # Set it back to train mode\n",
    "        self.model.train()\n",
    "        # Detaches it, brings it to CPU and back to Numpy\n",
    "        return y_hat_tensor.detach().cpu().numpy()\n",
    "\n",
    "    def plot_losses(self):\n",
    "        fig = plt.figure(figsize=(10, 4))\n",
    "        plt.plot(self.losses, label='Training Loss', c='b')\n",
    "        plt.plot(self.val_losses, label='Validation Loss', c='r')\n",
    "        plt.yscale('log')\n",
    "        plt.xlabel('Epochs')\n",
    "        plt.ylabel('Loss')\n",
    "        plt.legend()\n",
    "        plt.tight_layout()\n",
    "        return fig"
   ]
  },
  {
   "cell_type": "markdown",
   "metadata": {
    "id": "4zPziqcz72Qz"
   },
   "source": [
    "# Data Preparation"
   ]
  },
  {
   "cell_type": "code",
   "execution_count": 7,
   "metadata": {
    "colab": {
     "base_uri": "https://localhost:8080/"
    },
    "executionInfo": {
     "elapsed": 12,
     "status": "ok",
     "timestamp": 1746715132942,
     "user": {
      "displayName": "Angelo Marcelino",
      "userId": "12130434257979385717"
     },
     "user_tz": 180
    },
    "id": "h2PPjrD_8N-8",
    "outputId": "843dc1ed-9ea6-410d-fdba-30024785fb57"
   },
   "outputs": [
    {
     "name": "stdout",
     "output_type": "stream",
     "text": [
      "Time      float64\n",
      "V1        float64\n",
      "V2        float64\n",
      "V3        float64\n",
      "V4        float64\n",
      "V5        float64\n",
      "V6        float64\n",
      "V7        float64\n",
      "V8        float64\n",
      "V9        float64\n",
      "V10       float64\n",
      "V11       float64\n",
      "V12       float64\n",
      "V13       float64\n",
      "V14       float64\n",
      "V15       float64\n",
      "V16       float64\n",
      "V17       float64\n",
      "V18       float64\n",
      "V19       float64\n",
      "V20       float64\n",
      "V21       float64\n",
      "V22       float64\n",
      "V23       float64\n",
      "V24       float64\n",
      "V25       float64\n",
      "V26       float64\n",
      "V27       float64\n",
      "V28       float64\n",
      "Amount    float64\n",
      "Class       int64\n",
      "dtype: object\n"
     ]
    }
   ],
   "source": [
    "print(df.dtypes)"
   ]
  },
  {
   "cell_type": "code",
   "execution_count": 8,
   "metadata": {
    "executionInfo": {
     "elapsed": 743,
     "status": "ok",
     "timestamp": 1746715133686,
     "user": {
      "displayName": "Angelo Marcelino",
      "userId": "12130434257979385717"
     },
     "user_tz": 180
    },
    "id": "MiSb7aST8Saq"
   },
   "outputs": [],
   "source": [
    "from sklearn.model_selection import train_test_split\n",
    "from sklearn.preprocessing import StandardScaler\n",
    "\n",
    "seed_num = 13\n",
    "\n",
    "features = df.drop(columns='Class').values\n",
    "labels = df['Class'].values\n",
    "\n",
    "X_train, X_val, y_train, y_val = train_test_split(features, labels, test_size=0.2, random_state=seed_num)\n",
    "\n",
    "# Scaling\n",
    "scaler = StandardScaler()\n",
    "\n",
    "scaler.fit(X_train)\n",
    "\n",
    "X_train = scaler.transform(X_train)\n",
    "X_val = scaler.transform(X_val)"
   ]
  },
  {
   "cell_type": "code",
   "execution_count": 9,
   "metadata": {
    "colab": {
     "base_uri": "https://localhost:8080/"
    },
    "executionInfo": {
     "elapsed": 9,
     "status": "ok",
     "timestamp": 1746715133692,
     "user": {
      "displayName": "Angelo Marcelino",
      "userId": "12130434257979385717"
     },
     "user_tz": 180
    },
    "id": "XoQpBgw8A-gT",
    "outputId": "cc6d6297-77b3-45a7-c4a9-ca7331410afe"
   },
   "outputs": [
    {
     "name": "stdout",
     "output_type": "stream",
     "text": [
      "(227845, 30)\n",
      "(56962, 30)\n",
      "(227845,)\n",
      "(56962,)\n"
     ]
    }
   ],
   "source": [
    "print(X_train.shape)\n",
    "print(X_val.shape)\n",
    "print(y_train.shape)\n",
    "print(y_val.shape)"
   ]
  },
  {
   "cell_type": "markdown",
   "metadata": {
    "id": "Wx3bVGMfPfLu"
   },
   "source": [
    "# Transform to tensor"
   ]
  },
  {
   "cell_type": "code",
   "execution_count": 10,
   "metadata": {
    "executionInfo": {
     "elapsed": 80,
     "status": "ok",
     "timestamp": 1746715133775,
     "user": {
      "displayName": "Angelo Marcelino",
      "userId": "12130434257979385717"
     },
     "user_tz": 180
    },
    "id": "AAtWP2fe8nyk"
   },
   "outputs": [],
   "source": [
    "import torch\n",
    "import math\n",
    "\n",
    "torch.manual_seed(seed_num)\n",
    "\n",
    "# Builds tensors from numpy arrays\n",
    "x_train_tensor = torch.as_tensor(X_train).float()\n",
    "y_train_tensor = torch.as_tensor(y_train.reshape(-1, 1)).float()\n",
    "\n",
    "x_val_tensor = torch.as_tensor(X_val).float()\n",
    "y_val_tensor = torch.as_tensor(y_val.reshape(-1, 1)).float()\n",
    "\n",
    "# Builds dataset containing ALL data points\n",
    "train_dataset = TensorDataset(x_train_tensor, y_train_tensor)\n",
    "val_dataset = TensorDataset(x_val_tensor, y_val_tensor)\n",
    "\n",
    "# Builds a loader of each set\n",
    "batch_size = 64\n",
    "\n",
    "train_loader = DataLoader(\n",
    "    dataset=train_dataset,\n",
    "    batch_size=batch_size,\n",
    "    shuffle=True\n",
    ")\n",
    "val_loader = DataLoader(dataset=val_dataset,\n",
    "                        batch_size=batch_size)"
   ]
  },
  {
   "cell_type": "code",
   "execution_count": 11,
   "metadata": {
    "colab": {
     "base_uri": "https://localhost:8080/"
    },
    "executionInfo": {
     "elapsed": 9,
     "status": "ok",
     "timestamp": 1746715133785,
     "user": {
      "displayName": "Angelo Marcelino",
      "userId": "12130434257979385717"
     },
     "user_tz": 180
    },
    "id": "L7ep8gmaA7vc",
    "outputId": "553c3147-8bd8-481d-ce1c-8551514cbc9d"
   },
   "outputs": [
    {
     "name": "stdout",
     "output_type": "stream",
     "text": [
      "torch.Size([227845, 30])\n",
      "torch.Size([227845, 1])\n",
      "torch.Size([56962, 30])\n",
      "torch.Size([56962, 1])\n"
     ]
    }
   ],
   "source": [
    "print(x_train_tensor.shape)\n",
    "print(y_train_tensor.shape)\n",
    "print(x_val_tensor.shape)\n",
    "print(y_val_tensor.shape)"
   ]
  },
  {
   "cell_type": "markdown",
   "metadata": {
    "id": "9k-UsVY-CVfa"
   },
   "source": [
    "# Model Configuration"
   ]
  },
  {
   "cell_type": "code",
   "execution_count": 12,
   "metadata": {
    "executionInfo": {
     "elapsed": 4552,
     "status": "ok",
     "timestamp": 1746715138344,
     "user": {
      "displayName": "Angelo Marcelino",
      "userId": "12130434257979385717"
     },
     "user_tz": 180
    },
    "id": "8HlVe-R1CUPL"
   },
   "outputs": [],
   "source": [
    "from torch import nn\n",
    "import torch.optim as optim\n",
    "\n",
    "# Sets learning rate\n",
    "lr = 0.1\n",
    "\n",
    "model = nn.Sequential()\n",
    "model.add_module('linear', nn.Linear(x_train_tensor.shape[1], 1))\n",
    "\n",
    "# Defines a SGD optimizer to update the parameters\n",
    "optimizer = optim.SGD(model.parameters(), lr=lr)\n",
    "\n",
    "# Defines a BCE loss function\n",
    "loss_fn = nn.BCEWithLogitsLoss()"
   ]
  },
  {
   "cell_type": "markdown",
   "metadata": {
    "id": "mbFBqEuvCtIr"
   },
   "source": [
    "# Training"
   ]
  },
  {
   "cell_type": "code",
   "execution_count": 13,
   "metadata": {
    "colab": {
     "base_uri": "https://localhost:8080/"
    },
    "executionInfo": {
     "elapsed": 279,
     "status": "ok",
     "timestamp": 1746715138624,
     "user": {
      "displayName": "Angelo Marcelino",
      "userId": "12130434257979385717"
     },
     "user_tz": 180
    },
    "id": "VD1I619sPlwP",
    "outputId": "cea4f353-688d-4261-c55d-5022e8c078f3"
   },
   "outputs": [
    {
     "name": "stdout",
     "output_type": "stream",
     "text": [
      "Model sent to cuda\n",
      "Architecture created\n",
      "Loaders set\n",
      "Train dataset size: 227845\n",
      "Train batch size: 64\n"
     ]
    }
   ],
   "source": [
    "arch = Architecture(model, loss_fn, optimizer)\n",
    "\n",
    "arch.set_loaders(train_loader, val_loader)"
   ]
  },
  {
   "cell_type": "code",
   "execution_count": 14,
   "metadata": {
    "colab": {
     "base_uri": "https://localhost:8080/"
    },
    "executionInfo": {
     "elapsed": 452,
     "status": "ok",
     "timestamp": 1746715139077,
     "user": {
      "displayName": "Angelo Marcelino",
      "userId": "12130434257979385717"
     },
     "user_tz": 180
    },
    "id": "epzCXM4bVBya",
    "outputId": "23c11c2a-755c-4937-f538-911b9082065a"
   },
   "outputs": [
    {
     "name": "stdout",
     "output_type": "stream",
     "text": [
      "Checkpoint loaded from model_checkpoint_1.pth\n",
      "{'epoch': 100, 'model_state_dict': OrderedDict([('linear.weight', tensor([[-1.6927e-01,  3.0990e-01, -9.1759e-02,  2.2311e-02,  1.0133e+00,\n",
      "          1.7492e-01, -1.1713e-01, -9.6299e-02, -1.7572e-01, -4.2951e-01,\n",
      "         -9.0298e-01, -7.5746e-02,  1.1604e-01, -3.5262e-01, -5.2835e-01,\n",
      "         -5.3134e-02, -9.1924e-02,  9.9794e-04, -3.1891e-02,  1.0342e-01,\n",
      "         -3.5414e-01,  3.1134e-01,  3.7544e-01, -2.6410e-02,  1.4166e-01,\n",
      "         -5.8434e-02,  8.4309e-03, -3.4518e-01, -8.4981e-02,  1.8341e-01]],\n",
      "       device='cuda:0')), ('linear.bias', tensor([-8.6298], device='cuda:0'))]), 'optimizer_state_dict': {'state': {}, 'param_groups': [{'lr': 0.1, 'momentum': 0, 'dampening': 0, 'weight_decay': 0, 'nesterov': False, 'maximize': False, 'foreach': None, 'differentiable': False, 'fused': None, 'params': [0, 1]}]}, 'loss': [np.float64(0.021292415535931624), np.float64(0.005704477181717255), np.float64(0.004942420907448705), np.float64(0.004620985050963714), np.float64(0.004591889920059542), np.float64(0.004464699920722328), np.float64(0.0043589920369295964), np.float64(0.004397230198073581), np.float64(0.004286224601740094), np.float64(0.0043068508291904724), np.float64(0.004309184674639255), np.float64(0.004251739735889926), np.float64(0.00426693091089428), np.float64(0.004268375497409559), np.float64(0.004225571541539915), np.float64(0.00421302586658098), np.float64(0.004264747864867083), np.float64(0.004213932853866391), np.float64(0.004188999371861788), np.float64(0.004208230809581564), np.float64(0.004244895682380723), np.float64(0.004167705787024341), np.float64(0.0042089081566112066), np.float64(0.004133569696433622), np.float64(0.004222282111759231), np.float64(0.00422275340250051), np.float64(0.004157704166643731), np.float64(0.004126678011095718), np.float64(0.00424058511769282), np.float64(0.004187957450514201), np.float64(0.004196981361987919), np.float64(0.004177969127788965), np.float64(0.004202425581560258), np.float64(0.004253783241117426), np.float64(0.004203175054142242), np.float64(0.004180355087826638), np.float64(0.004176911707740378), np.float64(0.004175680734350418), np.float64(0.004125591808274177), np.float64(0.004193934459420096), np.float64(0.0041126755642538855), np.float64(0.004170340292458272), np.float64(0.004112890168041393), np.float64(0.0042708404297798945), np.float64(0.0041357273516878165), np.float64(0.004230350462962175), np.float64(0.004238344840188538), np.float64(0.004117900394747029), np.float64(0.004164705641648096), np.float64(0.004102902595318027), np.float64(0.00415540681550222), np.float64(0.0042065688988470575), np.float64(0.004211602897477229), np.float64(0.004162026424153086), np.float64(0.004212693944472385), np.float64(0.004185230813721601), np.float64(0.004178112354522181), np.float64(0.004232531734660985), np.float64(0.004134438595805413), np.float64(0.004154666005968371), np.float64(0.00417394539048347), np.float64(0.004215253031967829), np.float64(0.004136068304410152), np.float64(0.004135080858351329), np.float64(0.004205251761098804), np.float64(0.0041118532431987185), np.float64(0.00417437188580175), np.float64(0.004199657112191834), np.float64(0.004157395489693417), np.float64(0.004168323755174347), np.float64(0.004195577668503913), np.float64(0.004113747630320904), np.float64(0.004151349664498442), np.float64(0.004176479416871563), np.float64(0.004143382692864197), np.float64(0.004142078704044288), np.float64(0.004250995345330386), np.float64(0.004162286029246019), np.float64(0.004134805845146235), np.float64(0.004229983114144443), np.float64(0.004176843388913483), np.float64(0.00415231466555817), np.float64(0.004160572785112421), np.float64(0.00416160374771137), np.float64(0.004167478620974203), np.float64(0.004144211478631202), np.float64(0.0041298454962231754), np.float64(0.0041411008830251235), np.float64(0.004237705419614093), np.float64(0.00414041751838419), np.float64(0.0041202768239831005), np.float64(0.004174008213030325), np.float64(0.004170526198193498), np.float64(0.004165904082667466), np.float64(0.004185629615884999), np.float64(0.004138377249349804), np.float64(0.004139611378212859), np.float64(0.00414968832560394), np.float64(0.004156686254190916), np.float64(0.004148447552845566)], 'val_loss': [np.float64(0.006138189848121486), np.float64(0.004907423202847324), np.float64(0.004326221133440139), np.float64(0.004414057704360317), np.float64(0.003968761206955223), np.float64(0.003878384476904386), np.float64(0.0039023744601152177), np.float64(0.0037955648772597236), np.float64(0.003799692674317344), np.float64(0.00384315652391266), np.float64(0.0037197027291475944), np.float64(0.003721168695293904), np.float64(0.00375753726437714), np.float64(0.0037028902330434243), np.float64(0.0038693907329531473), np.float64(0.0036681456211157346), np.float64(0.0036793121218189544), np.float64(0.0036458402640692153), np.float64(0.0037111583010734643), np.float64(0.0036983348225835527), np.float64(0.003662845306575359), np.float64(0.0036704774414396645), np.float64(0.003735118665110255), np.float64(0.0036353315225100473), np.float64(0.003810351279436942), np.float64(0.003677181833435172), np.float64(0.0036199788677147627), np.float64(0.0037291902498949392), np.float64(0.0036594392721659864), np.float64(0.0036304900441964196), np.float64(0.003628977647412612), np.float64(0.003641585875573013), np.float64(0.003628999024094422), np.float64(0.003646815057313979), np.float64(0.00363461311434774), np.float64(0.003611819868461531), np.float64(0.003677535095892577), np.float64(0.003698333872315724), np.float64(0.0036131210183747236), np.float64(0.003620654969654118), np.float64(0.004053620509262375), np.float64(0.003644400133794972), np.float64(0.00378430608409644), np.float64(0.003660342293862289), np.float64(0.0036454929666558133), np.float64(0.0037649337734868196), np.float64(0.0036225863792826384), np.float64(0.003609451907059736), np.float64(0.0036389276757156927), np.float64(0.003607757923442308), np.float64(0.003696300312880621), np.float64(0.0036389949244439736), np.float64(0.0035997018877923274), np.float64(0.003608694976303093), np.float64(0.003668583288699165), np.float64(0.0036102876012089665), np.float64(0.003815698533000918), np.float64(0.003670892237070749), np.float64(0.0037310637826858846), np.float64(0.0037187236339581856), np.float64(0.0036294132309200662), np.float64(0.003720684595603086), np.float64(0.004064015384877674), np.float64(0.0037783145874881892), np.float64(0.0036475951919568896), np.float64(0.0038266301033710046), np.float64(0.003644769392449275), np.float64(0.003663265249142099), np.float64(0.0036186659837969476), np.float64(0.003679168628861628), np.float64(0.0036226962737458956), np.float64(0.003640588708538102), np.float64(0.0036724597720249517), np.float64(0.003666377590559465), np.float64(0.0037071035453536487), np.float64(0.003789099999760956), np.float64(0.0036598646026977477), np.float64(0.00366517158766621), np.float64(0.0038118061290959297), np.float64(0.003635907910218594), np.float64(0.0036738122066764596), np.float64(0.003633092876678431), np.float64(0.0036376377409358023), np.float64(0.003791030237168193), np.float64(0.003722478992269896), np.float64(0.003687268643600523), np.float64(0.003627116304226993), np.float64(0.0038627673035676203), np.float64(0.003843098680000631), np.float64(0.003651906268802596), np.float64(0.00392268708171208), np.float64(0.0036827196319656513), np.float64(0.0036042283672481925), np.float64(0.003694019074981361), np.float64(0.0036549641842278102), np.float64(0.003661856600687046), np.float64(0.003655727420030444), np.float64(0.0036448029803927973), np.float64(0.003632277353018926), np.float64(0.0036719526916752254)]}\n"
     ]
    }
   ],
   "source": [
    "arch.load_checkpoint('model_checkpoint_1.pth')"
   ]
  },
  {
   "cell_type": "code",
   "execution_count": 15,
   "metadata": {
    "executionInfo": {
     "elapsed": 12,
     "status": "ok",
     "timestamp": 1746715139079,
     "user": {
      "displayName": "Angelo Marcelino",
      "userId": "12130434257979385717"
     },
     "user_tz": 180
    },
    "id": "bBqh9rHVCs8T"
   },
   "outputs": [],
   "source": [
    "# n_epochs = 100\n",
    "# arch.set_seed(seed_num)\n",
    "# arch.train(n_epochs, seed=seed_num, verbose=True, verbose_mini_batch=False, batch_report=25)"
   ]
  },
  {
   "cell_type": "code",
   "execution_count": 16,
   "metadata": {
    "executionInfo": {
     "elapsed": 10,
     "status": "ok",
     "timestamp": 1746715139080,
     "user": {
      "displayName": "Angelo Marcelino",
      "userId": "12130434257979385717"
     },
     "user_tz": 180
    },
    "id": "gi6iO7I7EgEy"
   },
   "outputs": [],
   "source": [
    "# filename = 'model_checkpoint.pth'\n",
    "\n",
    "# arch.save_checkpoint(filename)"
   ]
  },
  {
   "cell_type": "code",
   "execution_count": 17,
   "metadata": {
    "colab": {
     "base_uri": "https://localhost:8080/",
     "height": 395
    },
    "executionInfo": {
     "elapsed": 527,
     "status": "ok",
     "timestamp": 1746715139597,
     "user": {
      "displayName": "Angelo Marcelino",
      "userId": "12130434257979385717"
     },
     "user_tz": 180
    },
    "id": "MB7o8zXhBFc8",
    "outputId": "a8e828c3-75a5-4150-80e9-258efc7a03c9"
   },
   "outputs": [
    {
     "data": {
      "image/png": "[encoded data removed]",
      "text/plain": [
       "<Figure size 1000x400 with 1 Axes>"
      ]
     },
     "metadata": {},
     "output_type": "display_data"
    }
   ],
   "source": [
    "fig = arch.plot_losses()"
   ]
  },
  {
   "cell_type": "code",
   "execution_count": 18,
   "metadata": {
    "colab": {
     "base_uri": "https://localhost:8080/"
    },
    "executionInfo": {
     "elapsed": 14,
     "status": "ok",
     "timestamp": 1746715139612,
     "user": {
      "displayName": "Angelo Marcelino",
      "userId": "12130434257979385717"
     },
     "user_tz": 180
    },
    "id": "QrTz_-lPCy5z",
    "outputId": "501eaa56-77d8-4e9e-fc41-32e2abe99455"
   },
   "outputs": [
    {
     "name": "stdout",
     "output_type": "stream",
     "text": [
      "OrderedDict([('linear.weight', tensor([[-1.6927e-01,  3.0990e-01, -9.1759e-02,  2.2311e-02,  1.0133e+00,\n",
      "          1.7492e-01, -1.1713e-01, -9.6299e-02, -1.7572e-01, -4.2951e-01,\n",
      "         -9.0298e-01, -7.5746e-02,  1.1604e-01, -3.5262e-01, -5.2835e-01,\n",
      "         -5.3134e-02, -9.1924e-02,  9.9794e-04, -3.1891e-02,  1.0342e-01,\n",
      "         -3.5414e-01,  3.1134e-01,  3.7544e-01, -2.6410e-02,  1.4166e-01,\n",
      "         -5.8434e-02,  8.4309e-03, -3.4518e-01, -8.4981e-02,  1.8341e-01]],\n",
      "       device='cuda:0')), ('linear.bias', tensor([-8.6298], device='cuda:0'))])\n"
     ]
    }
   ],
   "source": [
    "print(model.state_dict())"
   ]
  },
  {
   "cell_type": "code",
   "execution_count": 19,
   "metadata": {
    "colab": {
     "base_uri": "https://localhost:8080/"
    },
    "executionInfo": {
     "elapsed": 22,
     "status": "ok",
     "timestamp": 1746715206200,
     "user": {
      "displayName": "Angelo Marcelino",
      "userId": "12130434257979385717"
     },
     "user_tz": 180
    },
    "id": "pc6KdxX9FQaZ",
    "outputId": "2250b71b-0183-4997-f6c8-27f0f32957a6"
   },
   "outputs": [
    {
     "data": {
      "text/plain": [
       "tensor([ 0.7610,  0.9075, -0.1591,  0.6072,  2.8437, -0.3138,  1.6204, -1.1022,\n",
       "         0.4708,  0.7978,  0.8958, -2.5786,  0.7017,  1.4374, -1.7407, -2.7301,\n",
       "         1.0282, -0.8356,  0.0920, -1.2278, -0.1510,  0.0837,  0.8617,  0.1580,\n",
       "         0.1272, -0.3199,  0.1830,  0.2089, -0.0350, -0.2329])"
      ]
     },
     "execution_count": 19,
     "metadata": {},
     "output_type": "execute_result"
    }
   ],
   "source": [
    "x_sample, y_sample = val_dataset[0]\n",
    "\n",
    "x_sample"
   ]
  },
  {
   "cell_type": "code",
   "execution_count": 20,
   "metadata": {
    "colab": {
     "base_uri": "https://localhost:8080/"
    },
    "executionInfo": {
     "elapsed": 3,
     "status": "ok",
     "timestamp": 1746715220815,
     "user": {
      "displayName": "Angelo Marcelino",
      "userId": "12130434257979385717"
     },
     "user_tz": 180
    },
    "id": "xVBiqKPHVuET",
    "outputId": "637fd5e5-562a-4032-f90b-e1636555baac"
   },
   "outputs": [
    {
     "data": {
      "text/plain": [
       "tensor([0.])"
      ]
     },
     "execution_count": 20,
     "metadata": {},
     "output_type": "execute_result"
    }
   ],
   "source": [
    "y_sample"
   ]
  },
  {
   "cell_type": "code",
   "execution_count": 23,
   "metadata": {
    "colab": {
     "base_uri": "https://localhost:8080/"
    },
    "executionInfo": {
     "elapsed": 14,
     "status": "ok",
     "timestamp": 1746715312395,
     "user": {
      "displayName": "Angelo Marcelino",
      "userId": "12130434257979385717"
     },
     "user_tz": 180
    },
    "id": "E2GYnUYpVxo6",
    "outputId": "fde3cda2-e1bd-473e-bed2-cccf585fe8b6"
   },
   "outputs": [
    {
     "data": {
      "text/plain": [
       "array([-6.005706], dtype=float32)"
      ]
     },
     "execution_count": 23,
     "metadata": {},
     "output_type": "execute_result"
    }
   ],
   "source": [
    "logits_val = arch.predict(x_sample)\n",
    "logits_val"
   ]
  },
  {
   "cell_type": "code",
   "execution_count": 24,
   "metadata": {
    "colab": {
     "base_uri": "https://localhost:8080/"
    },
    "executionInfo": {
     "elapsed": 11,
     "status": "ok",
     "timestamp": 1746715313079,
     "user": {
      "displayName": "Angelo Marcelino",
      "userId": "12130434257979385717"
     },
     "user_tz": 180
    },
    "id": "IbfGIBhjV1Ix",
    "outputId": "c47bf532-9bed-4173-ed99-2ade811fd280"
   },
   "outputs": [
    {
     "data": {
      "text/plain": [
       "tensor([0.0025])"
      ]
     },
     "execution_count": 24,
     "metadata": {},
     "output_type": "execute_result"
    }
   ],
   "source": [
    "# prediction probabilities\n",
    "prob_val = torch.sigmoid(torch.as_tensor(logits_val[:4]).float())\n",
    "prob_val"
   ]
  },
  {
   "cell_type": "code",
   "execution_count": 27,
   "metadata": {
    "colab": {
     "base_uri": "https://localhost:8080/"
    },
    "executionInfo": {
     "elapsed": 10,
     "status": "ok",
     "timestamp": 1746715694570,
     "user": {
      "displayName": "Angelo Marcelino",
      "userId": "12130434257979385717"
     },
     "user_tz": 180
    },
    "id": "gvU7VNqVWIKi",
    "outputId": "b03e707b-a244-4720-da3e-b1bdda465af8"
   },
   "outputs": [
    {
     "data": {
      "text/plain": [
       "tensor([0], dtype=torch.int8)"
      ]
     },
     "execution_count": 27,
     "metadata": {},
     "output_type": "execute_result"
    }
   ],
   "source": [
    "classes = (prob_val >= 0.5).to(torch.int8)\n",
    "classes"
   ]
  },
  {
   "cell_type": "code",
   "execution_count": 28,
   "metadata": {
    "executionInfo": {
     "elapsed": 13,
     "status": "ok",
     "timestamp": 1746715694978,
     "user": {
      "displayName": "Angelo Marcelino",
      "userId": "12130434257979385717"
     },
     "user_tz": 180
    },
    "id": "QtA9cn1HXXPS"
   },
   "outputs": [],
   "source": [
    "from sklearn.metrics import confusion_matrix, roc_curve, precision_recall_curve, auc, accuracy_score\n",
    "def sigmoid(z):\n",
    "    return 1 / (1 + np.exp(-z))\n"
   ]
  },
  {
   "cell_type": "code",
   "execution_count": 29,
   "metadata": {
    "colab": {
     "base_uri": "https://localhost:8080/"
    },
    "executionInfo": {
     "elapsed": 43,
     "status": "ok",
     "timestamp": 1746715721779,
     "user": {
      "displayName": "Angelo Marcelino",
      "userId": "12130434257979385717"
     },
     "user_tz": 180
    },
    "id": "J1z9KkpJWKBq",
    "outputId": "ce763572-0639-42e2-e7c8-bcd399e02684"
   },
   "outputs": [
    {
     "data": {
      "text/plain": [
       "array([[56865,     7],\n",
       "       [   39,    51]])"
      ]
     },
     "execution_count": 29,
     "metadata": {},
     "output_type": "execute_result"
    }
   ],
   "source": [
    "logits_val = arch.predict(X_val)\n",
    "probabilities_val = sigmoid(logits_val).squeeze()\n",
    "cm_thresh50 = confusion_matrix(y_val, (probabilities_val >= 0.5))\n",
    "cm_thresh50"
   ]
  },
  {
   "cell_type": "code",
   "execution_count": 31,
   "metadata": {
    "executionInfo": {
     "elapsed": 4,
     "status": "ok",
     "timestamp": 1746715766352,
     "user": {
      "displayName": "Angelo Marcelino",
      "userId": "12130434257979385717"
     },
     "user_tz": 180
    },
    "id": "iRhgkyTdXzsa"
   },
   "outputs": [],
   "source": [
    "def split_cm(cm):\n",
    "    # Actual negatives go in the top row,\n",
    "    # above the probability line\n",
    "    actual_negative = cm[0]\n",
    "    # Predicted negatives go in the first column\n",
    "    tn = actual_negative[0]\n",
    "    # Predicted positives go in the second column\n",
    "    fp = actual_negative[1]\n",
    "\n",
    "    # Actual positives go in the bottow row,\n",
    "    # below the probability line\n",
    "    actual_positive = cm[1]\n",
    "    # Predicted negatives go in the first column\n",
    "    fn = actual_positive[0]\n",
    "    # Predicted positives go in the second column\n",
    "    tp = actual_positive[1]\n",
    "\n",
    "    return tn, fp, fn, tp"
   ]
  },
  {
   "cell_type": "code",
   "execution_count": 35,
   "metadata": {
    "executionInfo": {
     "elapsed": 8,
     "status": "ok",
     "timestamp": 1746715785562,
     "user": {
      "displayName": "Angelo Marcelino",
      "userId": "12130434257979385717"
     },
     "user_tz": 180
    },
    "id": "fxttEMQfX7Oc"
   },
   "outputs": [],
   "source": [
    "def tpr_fpr(cm):\n",
    "    tn, fp, fn, tp = split_cm(cm)\n",
    "\n",
    "    tpr = tp / (tp + fn)\n",
    "    fpr = fp / (fp + tn)\n",
    "\n",
    "    return tpr, fpr"
   ]
  },
  {
   "cell_type": "code",
   "execution_count": 36,
   "metadata": {
    "executionInfo": {
     "elapsed": 2,
     "status": "ok",
     "timestamp": 1746715786381,
     "user": {
      "displayName": "Angelo Marcelino",
      "userId": "12130434257979385717"
     },
     "user_tz": 180
    },
    "id": "Lg_KmkTUXr8C"
   },
   "outputs": [],
   "source": [
    "def precision_recall(cm):\n",
    "    tn, fp, fn, tp = split_cm(cm)\n",
    "\n",
    "    precision = tp / (tp + fp)\n",
    "    recall = tp / (tp + fn)\n",
    "\n",
    "    return precision, recall"
   ]
  },
  {
   "cell_type": "code",
   "execution_count": 39,
   "metadata": {
    "colab": {
     "base_uri": "https://localhost:8080/"
    },
    "executionInfo": {
     "elapsed": 22,
     "status": "ok",
     "timestamp": 1746715818498,
     "user": {
      "displayName": "Angelo Marcelino",
      "userId": "12130434257979385717"
     },
     "user_tz": 180
    },
    "id": "tQu8wmm_YCn6",
    "outputId": "0cc8dd50-87a2-49c5-9b38-2c9e7f58dc6b"
   },
   "outputs": [
    {
     "data": {
      "text/plain": [
       "(np.float64(0.8793103448275862), np.float64(0.5666666666666667))"
      ]
     },
     "execution_count": 39,
     "metadata": {},
     "output_type": "execute_result"
    }
   ],
   "source": [
    "precision_recall(cm_thresh50)\n"
   ]
  },
  {
   "cell_type": "code",
   "execution_count": 37,
   "metadata": {
    "colab": {
     "base_uri": "https://localhost:8080/"
    },
    "executionInfo": {
     "elapsed": 10,
     "status": "ok",
     "timestamp": 1746715786761,
     "user": {
      "displayName": "Angelo Marcelino",
      "userId": "12130434257979385717"
     },
     "user_tz": 180
    },
    "id": "-l5hO1Q-Xuvy",
    "outputId": "61e612b6-6ad2-49ad-b832-b298a631079a"
   },
   "outputs": [
    {
     "data": {
      "text/plain": [
       "0.9991924440855307"
      ]
     },
     "execution_count": 37,
     "metadata": {},
     "output_type": "execute_result"
    }
   ],
   "source": [
    "acc = accuracy_score(y_val, (probabilities_val >= 0.5))\n",
    "acc"
   ]
  },
  {
   "cell_type": "code",
   "execution_count": 38,
   "metadata": {
    "colab": {
     "base_uri": "https://localhost:8080/"
    },
    "executionInfo": {
     "elapsed": 4,
     "status": "ok",
     "timestamp": 1746715787298,
     "user": {
      "displayName": "Angelo Marcelino",
      "userId": "12130434257979385717"
     },
     "user_tz": 180
    },
    "id": "uvJ2kfwEX3E0",
    "outputId": "0fecf8d3-2411-47f3-b605-84af9ec9534f"
   },
   "outputs": [
    {
     "data": {
      "text/plain": [
       "(np.float64(0.5666666666666667), np.float64(0.00012308341538894358))"
      ]
     },
     "execution_count": 38,
     "metadata": {},
     "output_type": "execute_result"
    }
   ],
   "source": [
    "tpr_fpr(cm_thresh50)"
   ]
  },
  {
   "cell_type": "code",
   "execution_count": 40,
   "metadata": {
    "executionInfo": {
     "elapsed": 3,
     "status": "ok",
     "timestamp": 1746715897076,
     "user": {
      "displayName": "Angelo Marcelino",
      "userId": "12130434257979385717"
     },
     "user_tz": 180
    },
    "id": "hHgJVo1wYP-y"
   },
   "outputs": [],
   "source": [
    "def probability_line(ax, y, probs, threshold, shift=0.0, annot=False, colors=None):\n",
    "    if colors is None:\n",
    "        colors = ['r', 'b']\n",
    "    ax.grid(False)\n",
    "    ax.set_ylim([-.1, .1])\n",
    "    ax.axes.get_yaxis().set_visible(False)\n",
    "    ax.plot([0, 1], [0, 0], linewidth=2, c='k', zorder=1)\n",
    "    ax.plot([0, 0], [-.1, .1], c='k', zorder=1)\n",
    "    ax.plot([1, 1], [-.1, .1], c='k', zorder=1)\n",
    "\n",
    "    tn = (y == 0) & (probs < threshold)\n",
    "    fn = (y == 0) & (probs >= threshold)\n",
    "    tp = (y == 1) & (probs >= threshold)\n",
    "    fp = (y == 1) & (probs < threshold)\n",
    "\n",
    "    ax.plot([threshold, threshold], [-.1, .1], c='k', zorder=1, linestyle='--')\n",
    "    ax.scatter(probs[tn], np.zeros(tn.sum()) + shift, c=colors[0], s=150, zorder=2, edgecolor=colors[0], linewidth=3)\n",
    "    ax.scatter(probs[fn], np.zeros(fn.sum()) + shift, c=colors[0], s=150, zorder=2, edgecolor=colors[1], linewidth=3)\n",
    "\n",
    "    ax.scatter(probs[tp], np.zeros(tp.sum()) - shift, c=colors[1], s=150, zorder=2, edgecolor=colors[1], linewidth=3)\n",
    "    ax.scatter(probs[fp], np.zeros(fp.sum()) - shift, c=colors[1], s=150, zorder=2, edgecolor=colors[0], linewidth=3)\n",
    "\n",
    "    ax.set_xlabel(r'o(z) = P(y=1)')\n",
    "    ax.set_title('Threshold = {}'.format(threshold))\n",
    "\n",
    "    if annot:\n",
    "        ax.annotate('TN', xy=(.20, .03), c='k', weight='bold', fontsize=20)\n",
    "        ax.annotate('FN', xy=(.20, -.08), c='k', weight='bold', fontsize=20)\n",
    "        ax.annotate('FP', xy=(.70, .03), c='k', weight='bold', fontsize=20)\n",
    "        ax.annotate('TP', xy=(.70, -.08), c='k', weight='bold', fontsize=20)\n",
    "    return ax\n"
   ]
  },
  {
   "cell_type": "code",
   "execution_count": 41,
   "metadata": {
    "executionInfo": {
     "elapsed": 2,
     "status": "ok",
     "timestamp": 1746715900554,
     "user": {
      "displayName": "Angelo Marcelino",
      "userId": "12130434257979385717"
     },
     "user_tz": 180
    },
    "id": "trfMLSaSX5La"
   },
   "outputs": [],
   "source": [
    "def figure10(y, probabilities, threshold, shift, annot, colors=None):\n",
    "    fig, ax = plt.subplots(1, 1, figsize=(10, 2))\n",
    "    probability_line(ax, y, probabilities, threshold, shift, annot, colors)\n",
    "    fig.tight_layout()\n",
    "    return fig\n"
   ]
  },
  {
   "cell_type": "code",
   "execution_count": 43,
   "metadata": {
    "colab": {
     "base_uri": "https://localhost:8080/",
     "height": 195
    },
    "executionInfo": {
     "elapsed": 946,
     "status": "ok",
     "timestamp": 1746715917527,
     "user": {
      "displayName": "Angelo Marcelino",
      "userId": "12130434257979385717"
     },
     "user_tz": 180
    },
    "id": "2XQhhbmSYXl6",
    "outputId": "9b4fa2e1-a458-4e14-ff58-a7a056b5f5ef"
   },
   "outputs": [
    {
     "data": {
      "image/png": "[encoded data removed]",
      "text/plain": [
       "<Figure size 1000x200 with 1 Axes>"
      ]
     },
     "metadata": {},
     "output_type": "display_data"
    }
   ],
   "source": [
    "threshold = 0.5\n",
    "fig = figure10(y_val, probabilities_val, threshold, 0.04, True)"
   ]
  },
  {
   "cell_type": "code",
   "execution_count": 47,
   "metadata": {
    "colab": {
     "base_uri": "https://localhost:8080/",
     "height": 494
    },
    "executionInfo": {
     "elapsed": 281,
     "status": "ok",
     "timestamp": 1746716097664,
     "user": {
      "displayName": "Angelo Marcelino",
      "userId": "12130434257979385717"
     },
     "user_tz": 180
    },
    "id": "J3Dz67IkYZ0C",
    "outputId": "0930b405-ebe4-4bd3-de08-7324fa15eb52"
   },
   "outputs": [
    {
     "data": {
      "image/png": "[encoded data removed]",
      "text/plain": [
       "<Figure size 600x500 with 2 Axes>"
      ]
     },
     "metadata": {},
     "output_type": "display_data"
    }
   ],
   "source": [
    "import seaborn as sns\n",
    "import matplotlib.pyplot as plt\n",
    "import numpy as np\n",
    "\n",
    "class_names = ['Not Fraud', 'Fraud']  # Adjust to match your actual classes\n",
    "\n",
    "plt.figure(figsize=(6, 5))\n",
    "ax = sns.heatmap(cm_thresh50, annot=True, fmt='d', cmap='Blues',\n",
    "                 xticklabels=class_names, yticklabels=class_names)\n",
    "\n",
    "plt.xlabel('Predicted')\n",
    "plt.ylabel('Actual')\n",
    "plt.title('Confusion Matrix')\n",
    "plt.tight_layout()\n",
    "plt.show()\n"
   ]
  },
  {
   "cell_type": "markdown",
   "metadata": {
    "id": "3E_tcBz_a6CC"
   },
   "source": [
    "# F1 score"
   ]
  },
  {
   "cell_type": "code",
   "execution_count": 48,
   "metadata": {
    "executionInfo": {
     "elapsed": 2,
     "status": "ok",
     "timestamp": 1746716627817,
     "user": {
      "displayName": "Angelo Marcelino",
      "userId": "12130434257979385717"
     },
     "user_tz": 180
    },
    "id": "oFWYgYd5a5e7"
   },
   "outputs": [],
   "source": [
    "def f1(cm):\n",
    "    tn, fp, fn, tp = split_cm(cm)\n",
    "\n",
    "    return (2 * tp) / ((2 * tp) + fp + fn)"
   ]
  },
  {
   "cell_type": "code",
   "execution_count": 49,
   "metadata": {
    "colab": {
     "base_uri": "https://localhost:8080/"
    },
    "executionInfo": {
     "elapsed": 14,
     "status": "ok",
     "timestamp": 1746716634213,
     "user": {
      "displayName": "Angelo Marcelino",
      "userId": "12130434257979385717"
     },
     "user_tz": 180
    },
    "id": "UC5qMZ-yY0Ba",
    "outputId": "f444a55d-c886-4f09-b1f3-93014ceb7531"
   },
   "outputs": [
    {
     "data": {
      "text/plain": [
       "np.float64(0.6891891891891891)"
      ]
     },
     "execution_count": 49,
     "metadata": {},
     "output_type": "execute_result"
    }
   ],
   "source": [
    "f1(cm_thresh50)"
   ]
  },
  {
   "cell_type": "code",
   "execution_count": null,
   "metadata": {
    "id": "OEKaue65bKsy"
   },
   "outputs": [],
   "source": []
  }
 ],
 "metadata": {
  "accelerator": "GPU",
  "colab": {
   "authorship_tag": "ABX9TyOAyM0RaFBZjgQlU2K4bB5y",
   "gpuType": "T4",
   "provenance": []
  },
  "kernelspec": {
   "display_name": ".venv",
   "language": "python",
   "name": "python3"
  },
  "language_info": {
   "name": "python",
   "version": "3.12.3"
  }
 },
 "nbformat": 4,
 "nbformat_minor": 0
}
